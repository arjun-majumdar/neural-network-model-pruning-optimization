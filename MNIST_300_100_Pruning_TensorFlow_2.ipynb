{
  "nbformat": 4,
  "nbformat_minor": 0,
  "metadata": {
    "colab": {
      "name": "MNIST_300_100_Pruning_TensorFlow_2",
      "provenance": [],
      "collapsed_sections": []
    },
    "kernelspec": {
      "name": "python3",
      "display_name": "Python 3"
    },
    "accelerator": "GPU"
  },
  "cells": [
    {
      "cell_type": "code",
      "metadata": {
        "id": "k22uJhk9D5Fk",
        "colab_type": "code",
        "colab": {}
      },
      "source": [
        "!pip uninstall tensorflow"
      ],
      "execution_count": 0,
      "outputs": []
    },
    {
      "cell_type": "code",
      "metadata": {
        "id": "TVUREaYAEC5D",
        "colab_type": "code",
        "colab": {}
      },
      "source": [
        "!pip install tensorflow-gpu"
      ],
      "execution_count": 0,
      "outputs": []
    },
    {
      "cell_type": "code",
      "metadata": {
        "id": "DmNFG5RyEEVa",
        "colab_type": "code",
        "colab": {}
      },
      "source": [
        "import tensorflow as tf\n",
        "import numpy as np"
      ],
      "execution_count": 0,
      "outputs": []
    },
    {
      "cell_type": "code",
      "metadata": {
        "id": "h2-mCZd2EH6p",
        "colab_type": "code",
        "outputId": "6ef3e7ba-cd0d-48b2-b213-d854402e0dfe",
        "colab": {
          "base_uri": "https://localhost:8080/",
          "height": 34
        }
      },
      "source": [
        "tf.__version__"
      ],
      "execution_count": 4,
      "outputs": [
        {
          "output_type": "execute_result",
          "data": {
            "text/plain": [
              "'2.1.0'"
            ]
          },
          "metadata": {
            "tags": []
          },
          "execution_count": 4
        }
      ]
    },
    {
      "cell_type": "code",
      "metadata": {
        "id": "CIQtuvrGEJLU",
        "colab_type": "code",
        "outputId": "328e6402-beb7-4fee-89ce-20ad40548952",
        "colab": {
          "base_uri": "https://localhost:8080/",
          "height": 141
        }
      },
      "source": [
        "if tf.test.is_gpu_available():\n",
        "    print(\"\\nYour GPU is available to TensorFlow\\n\")\n",
        "else:\n",
        "    print(\"\\nYour GPU is NOT available to TensorFlow\\n\")"
      ],
      "execution_count": 5,
      "outputs": [
        {
          "output_type": "stream",
          "text": [
            "WARNING:tensorflow:From <ipython-input-5-5c3b822cc11a>:1: is_gpu_available (from tensorflow.python.framework.test_util) is deprecated and will be removed in a future version.\n",
            "Instructions for updating:\n",
            "Use `tf.config.list_physical_devices('GPU')` instead.\n",
            "\n",
            "Your GPU is available to TensorFlow\n",
            "\n"
          ],
          "name": "stdout"
        }
      ]
    },
    {
      "cell_type": "code",
      "metadata": {
        "id": "AKX7sE3mELIl",
        "colab_type": "code",
        "outputId": "2a119ec7-bd83-4c09-b464-b6871ca64612",
        "colab": {
          "base_uri": "https://localhost:8080/",
          "height": 52
        }
      },
      "source": [
        "print(('Is your GPU available for use?\\n{0}').format(\n",
        "    'Yes, your GPU is available: True' if tf.test.is_gpu_available() == True else 'No, your GPU is NOT available: False'\n",
        "))"
      ],
      "execution_count": 6,
      "outputs": [
        {
          "output_type": "stream",
          "text": [
            "Is your GPU available for use?\n",
            "Yes, your GPU is available: True\n"
          ],
          "name": "stdout"
        }
      ]
    },
    {
      "cell_type": "code",
      "metadata": {
        "id": "nuwnD_YWEM4H",
        "colab_type": "code",
        "colab": {}
      },
      "source": [
        "import matplotlib.pyplot as plt\n",
        "from tensorflow.keras.layers import AveragePooling2D, Conv2D\n",
        "from tensorflow.keras.layers import Dense, Flatten, Reshape, Input, InputLayer\n",
        "from tensorflow.keras import models, layers\n",
        "from tensorflow.keras.models import Sequential, Model\n",
        "from tensorflow.keras.initializers import RandomNormal\n",
        "import matplotlib.pyplot as plt\n"
      ],
      "execution_count": 0,
      "outputs": []
    },
    {
      "cell_type": "code",
      "metadata": {
        "id": "3izsfKnwEOwT",
        "colab_type": "code",
        "colab": {}
      },
      "source": [
        "import tensorboard\n",
        "import tempfile\n",
        "import zipfile\n",
        "import os"
      ],
      "execution_count": 0,
      "outputs": []
    },
    {
      "cell_type": "code",
      "metadata": {
        "id": "nPX6iA5IEnHb",
        "colab_type": "code",
        "colab": {}
      },
      "source": [
        "%load_ext tensorboard"
      ],
      "execution_count": 0,
      "outputs": []
    },
    {
      "cell_type": "code",
      "metadata": {
        "id": "xHbTNIinEozO",
        "colab_type": "code",
        "colab": {}
      },
      "source": [
        "batch_size = 128\n",
        "num_classes = 10\n",
        "epochs = 50"
      ],
      "execution_count": 0,
      "outputs": []
    },
    {
      "cell_type": "code",
      "metadata": {
        "id": "t9ceLprPE6CR",
        "colab_type": "code",
        "outputId": "e9f32d6e-45a7-4677-fcbe-ea203cbef3db",
        "colab": {
          "base_uri": "https://localhost:8080/",
          "height": 52
        }
      },
      "source": [
        "# Data preprocessing and cleadning:\n",
        "# input image dimensions\n",
        "img_rows, img_cols = 28, 28\n",
        "\n",
        "# the data, shuffled and split between train and test sets\n",
        "(X_train, y_train), (X_test, y_test) = tf.keras.datasets.mnist.load_data()"
      ],
      "execution_count": 11,
      "outputs": [
        {
          "output_type": "stream",
          "text": [
            "Downloading data from https://storage.googleapis.com/tensorflow/tf-keras-datasets/mnist.npz\n",
            "11493376/11490434 [==============================] - 0s 0us/step\n"
          ],
          "name": "stdout"
        }
      ]
    },
    {
      "cell_type": "code",
      "metadata": {
        "id": "-GvB-vySE8V-",
        "colab_type": "code",
        "outputId": "89cd6e94-de41-4ec1-bced-4d5623c362dc",
        "colab": {
          "base_uri": "https://localhost:8080/",
          "height": 69
        }
      },
      "source": [
        "if tf.keras.backend.image_data_format() == 'channels_first':\n",
        "  X_train = X_train.reshape(X_train.shape[0], 1, img_rows, img_cols)\n",
        "  X_test = X_test.reshape(X_test.shape[0], 1, img_rows, img_cols)\n",
        "  input_shape = (1, img_rows, img_cols)\n",
        "else:\n",
        "  X_train = X_train.reshape(X_train.shape[0], img_rows, img_cols, 1)\n",
        "  X_test = X_test.reshape(X_test.shape[0], img_rows, img_cols, 1)\n",
        "  input_shape = (img_rows, img_cols, 1)\n",
        "\n",
        "print(\"\\n'input_shape' which will be used = {0}\\n\".format(input_shape))"
      ],
      "execution_count": 12,
      "outputs": [
        {
          "output_type": "stream",
          "text": [
            "\n",
            "'input_shape' which will be used = (28, 28, 1)\n",
            "\n"
          ],
          "name": "stdout"
        }
      ]
    },
    {
      "cell_type": "code",
      "metadata": {
        "id": "5e--GdmFE_ct",
        "colab_type": "code",
        "colab": {}
      },
      "source": [
        "# Convert datasets to floating point types-\n",
        "X_train = X_train.astype('float32')\n",
        "X_test = X_test.astype('float32')\n",
        "\n",
        "# Normalize the training and testing datasets-\n",
        "X_train /= 255.0\n",
        "X_test /= 255.0"
      ],
      "execution_count": 0,
      "outputs": []
    },
    {
      "cell_type": "code",
      "metadata": {
        "id": "ZDaPzNUNFHXR",
        "colab_type": "code",
        "colab": {}
      },
      "source": [
        "# convert class vectors/target to binary class matrices or one-hot encoded values-\n",
        "y_train = tf.keras.utils.to_categorical(y_train, num_classes)\n",
        "y_test = tf.keras.utils.to_categorical(y_test, num_classes)"
      ],
      "execution_count": 0,
      "outputs": []
    },
    {
      "cell_type": "code",
      "metadata": {
        "id": "jwfJWcImF3FI",
        "colab_type": "code",
        "colab": {}
      },
      "source": [
        "# Reshape training and testing sets-\n",
        "X_train = X_train.reshape(X_train.shape[0], 784)\n",
        "X_test = X_test.reshape(X_test.shape[0], 784)"
      ],
      "execution_count": 0,
      "outputs": []
    },
    {
      "cell_type": "code",
      "metadata": {
        "id": "aJ4xyWVRFJhz",
        "colab_type": "code",
        "outputId": "99dc47ff-b3e5-4c0d-8605-269315c67007",
        "colab": {
          "base_uri": "https://localhost:8080/",
          "height": 86
        }
      },
      "source": [
        "print(\"\\nDimensions of training and testing sets are:\")\n",
        "print(\"X_train.shape = {0}, y_train = {1}\".format(X_train.shape, y_train.shape))\n",
        "print(\"X_test.shape = {0}, y_test = {1}\".format(X_test.shape, y_test.shape))"
      ],
      "execution_count": 16,
      "outputs": [
        {
          "output_type": "stream",
          "text": [
            "\n",
            "Dimensions of training and testing sets are:\n",
            "X_train.shape = (60000, 784), y_train = (60000, 10)\n",
            "X_test.shape = (10000, 784), y_test = (10000, 10)\n"
          ],
          "name": "stdout"
        }
      ]
    },
    {
      "cell_type": "code",
      "metadata": {
        "id": "XJXUZD3MFLGu",
        "colab_type": "code",
        "colab": {}
      },
      "source": [
        "l = tf.keras.layers"
      ],
      "execution_count": 0,
      "outputs": []
    },
    {
      "cell_type": "code",
      "metadata": {
        "id": "WO-PO2FJJUda",
        "colab_type": "code",
        "colab": {}
      },
      "source": [
        "# del model"
      ],
      "execution_count": 0,
      "outputs": []
    },
    {
      "cell_type": "code",
      "metadata": {
        "id": "h1Vssa3VFOk5",
        "colab_type": "code",
        "colab": {}
      },
      "source": [
        "model = Sequential()\n",
        "model.add(l.InputLayer(input_shape = (784, )))\n",
        "model.add(Flatten())\n",
        "model.add(Dense(units = 300, activation='relu', kernel_initializer = tf.initializers.GlorotUniform()))\n",
        "model.add(l.Dropout(0.2))\n",
        "model.add(Dense(units = 100, activation='relu', kernel_initializer = tf.initializers.GlorotUniform()))\n",
        "model.add(l.Dropout(0.1))\n",
        "model.add(Dense(units = num_classes, activation='softmax'))"
      ],
      "execution_count": 0,
      "outputs": []
    },
    {
      "cell_type": "code",
      "metadata": {
        "id": "gS-T9skuGuJb",
        "colab_type": "code",
        "outputId": "8d2ced50-07de-40e8-8c32-509a43656f4a",
        "colab": {
          "base_uri": "https://localhost:8080/",
          "height": 364
        }
      },
      "source": [
        "# print summary of designed neural network-\n",
        "model.summary()"
      ],
      "execution_count": 32,
      "outputs": [
        {
          "output_type": "stream",
          "text": [
            "Model: \"sequential_2\"\n",
            "_________________________________________________________________\n",
            "Layer (type)                 Output Shape              Param #   \n",
            "=================================================================\n",
            "flatten_2 (Flatten)          (None, 784)               0         \n",
            "_________________________________________________________________\n",
            "dense_6 (Dense)              (None, 300)               235500    \n",
            "_________________________________________________________________\n",
            "dropout_2 (Dropout)          (None, 300)               0         \n",
            "_________________________________________________________________\n",
            "dense_7 (Dense)              (None, 100)               30100     \n",
            "_________________________________________________________________\n",
            "dropout_3 (Dropout)          (None, 100)               0         \n",
            "_________________________________________________________________\n",
            "dense_8 (Dense)              (None, 10)                1010      \n",
            "=================================================================\n",
            "Total params: 266,610\n",
            "Trainable params: 266,610\n",
            "Non-trainable params: 0\n",
            "_________________________________________________________________\n"
          ],
          "name": "stdout"
        }
      ]
    },
    {
      "cell_type": "code",
      "metadata": {
        "id": "fBxyoBogG4YH",
        "colab_type": "code",
        "colab": {}
      },
      "source": [
        "# Define callbacks-\n",
        "callbacks = [\n",
        "              # tf.keras.callbacks.TensorBoard(log_dir=logdir, profile_batch = 0),\n",
        "             tf.keras.callbacks.EarlyStopping(monitor='val_loss', patience = 3)\n",
        "]"
      ],
      "execution_count": 0,
      "outputs": []
    },
    {
      "cell_type": "code",
      "metadata": {
        "id": "SHXIxG2kFQhH",
        "colab_type": "code",
        "colab": {}
      },
      "source": [
        "# Compile designed CNN-\n",
        "model.compile(\n",
        "    loss = tf.keras.losses.categorical_crossentropy,\n",
        "    optimizer = 'adam',\n",
        "    metrics = ['accuracy'])"
      ],
      "execution_count": 0,
      "outputs": []
    },
    {
      "cell_type": "code",
      "metadata": {
        "id": "PNYZ5t_BGFa5",
        "colab_type": "code",
        "outputId": "ccf5b7fb-74d9-48ff-cf85-3564dfdded34",
        "colab": {
          "base_uri": "https://localhost:8080/",
          "height": 416
        }
      },
      "source": [
        "# Train CNN on training data-\n",
        "history_original = model.fit(x = X_train, y = y_train,\n",
        "          batch_size = batch_size,\n",
        "          epochs = epochs,\n",
        "          verbose = 1,\n",
        "          callbacks = callbacks,\n",
        "          validation_data = (X_test, y_test))"
      ],
      "execution_count": 35,
      "outputs": [
        {
          "output_type": "stream",
          "text": [
            "Train on 60000 samples, validate on 10000 samples\n",
            "Epoch 1/50\n",
            "60000/60000 [==============================] - 2s 34us/sample - loss: 0.3164 - accuracy: 0.9065 - val_loss: 0.1283 - val_accuracy: 0.9601\n",
            "Epoch 2/50\n",
            "60000/60000 [==============================] - 2s 28us/sample - loss: 0.1289 - accuracy: 0.9610 - val_loss: 0.0903 - val_accuracy: 0.9724\n",
            "Epoch 3/50\n",
            "60000/60000 [==============================] - 2s 27us/sample - loss: 0.0953 - accuracy: 0.9709 - val_loss: 0.0760 - val_accuracy: 0.9764\n",
            "Epoch 4/50\n",
            "60000/60000 [==============================] - 2s 27us/sample - loss: 0.0737 - accuracy: 0.9774 - val_loss: 0.0681 - val_accuracy: 0.9793\n",
            "Epoch 5/50\n",
            "60000/60000 [==============================] - 2s 27us/sample - loss: 0.0588 - accuracy: 0.9813 - val_loss: 0.0765 - val_accuracy: 0.9743\n",
            "Epoch 6/50\n",
            "60000/60000 [==============================] - 2s 27us/sample - loss: 0.0514 - accuracy: 0.9833 - val_loss: 0.0676 - val_accuracy: 0.9781\n",
            "Epoch 7/50\n",
            "60000/60000 [==============================] - 2s 28us/sample - loss: 0.0457 - accuracy: 0.9854 - val_loss: 0.0638 - val_accuracy: 0.9801\n",
            "Epoch 8/50\n",
            "60000/60000 [==============================] - 2s 28us/sample - loss: 0.0404 - accuracy: 0.9871 - val_loss: 0.0568 - val_accuracy: 0.9826\n",
            "Epoch 9/50\n",
            "60000/60000 [==============================] - 2s 28us/sample - loss: 0.0346 - accuracy: 0.9887 - val_loss: 0.0621 - val_accuracy: 0.9810\n",
            "Epoch 10/50\n",
            "60000/60000 [==============================] - 2s 27us/sample - loss: 0.0318 - accuracy: 0.9897 - val_loss: 0.0606 - val_accuracy: 0.9817\n",
            "Epoch 11/50\n",
            "60000/60000 [==============================] - 2s 29us/sample - loss: 0.0282 - accuracy: 0.9902 - val_loss: 0.0636 - val_accuracy: 0.9810\n"
          ],
          "name": "stdout"
        }
      ]
    },
    {
      "cell_type": "code",
      "metadata": {
        "id": "DXbkg0Z8GUqW",
        "colab_type": "code",
        "outputId": "a10d14f4-f730-4167-d7a1-a957fd412123",
        "colab": {
          "base_uri": "https://localhost:8080/",
          "height": 69
        }
      },
      "source": [
        "# Evaluate trained model on testing dataset-\n",
        "score_original = model.evaluate(X_test, y_test, verbose=0)\n",
        "\n",
        "print(\"\\nTesting dataset loss = {0:.4f} and accuracy = {1:.4f}\\n\".format(score_original[0], score_original[1]))"
      ],
      "execution_count": 36,
      "outputs": [
        {
          "output_type": "stream",
          "text": [
            "\n",
            "Testing dataset loss = 0.0636 and accuracy = 0.9810\n",
            "\n"
          ],
          "name": "stdout"
        }
      ]
    },
    {
      "cell_type": "markdown",
      "metadata": {
        "id": "2PNt7k3-Kt9v",
        "colab_type": "text"
      },
      "source": [
        "**Visualizing Neural Network Training**"
      ]
    },
    {
      "cell_type": "code",
      "metadata": {
        "id": "CVojVEafKQPo",
        "colab_type": "code",
        "colab": {
          "base_uri": "https://localhost:8080/",
          "height": 642
        },
        "outputId": "920e2224-7c89-41ad-cacc-4a795fc10da4"
      },
      "source": [
        "fig=plt.figure(figsize=(10, 9), dpi= 80, facecolor='w', edgecolor='k')\n",
        "\n",
        "plt.plot(history_original.history['accuracy'], label='training accuracy')\n",
        "plt.plot(history_original.history['val_accuracy'], label = 'testing accuracy')\n",
        "\n",
        "plt.title(\"MNIST (300, 100) training visualization\")\n",
        "plt.xlabel('# of epochs')\n",
        "plt.ylabel('Accuracy')\n",
        "plt.ylim([0.5, 1])\n",
        "plt.legend(loc='lower right')\n"
      ],
      "execution_count": 40,
      "outputs": [
        {
          "output_type": "execute_result",
          "data": {
            "text/plain": [
              "<matplotlib.legend.Legend at 0x7f8cc86cc940>"
            ]
          },
          "metadata": {
            "tags": []
          },
          "execution_count": 40
        },
        {
          "output_type": "display_data",
          "data": {
            "image/png": "[encoded data removed]",
            "text/plain": [
              "<Figure size 800x720 with 1 Axes>"
            ]
          },
          "metadata": {
            "tags": []
          }
        }
      ]
    },
    {
      "cell_type": "code",
      "metadata": {
        "id": "JF38PrbnGXGp",
        "colab_type": "code",
        "outputId": "b5986bbe-534a-40da-9f93-7de17edee3b8",
        "colab": {
          "base_uri": "https://localhost:8080/",
          "height": 34
        }
      },
      "source": [
        "type(model.trainable_weights), len(model.trainable_weights)"
      ],
      "execution_count": 41,
      "outputs": [
        {
          "output_type": "execute_result",
          "data": {
            "text/plain": [
              "(list, 6)"
            ]
          },
          "metadata": {
            "tags": []
          },
          "execution_count": 41
        }
      ]
    },
    {
      "cell_type": "code",
      "metadata": {
        "id": "alZLpJVRKWLi",
        "colab_type": "code",
        "outputId": "3e9f2c49-de2e-468d-daa7-24e35cdc10cb",
        "colab": {
          "base_uri": "https://localhost:8080/",
          "height": 173
        }
      },
      "source": [
        "print(\"\\nShape or dimension of each layer in CNN:\\n\")\n",
        "\n",
        "for layer in model.trainable_weights:\n",
        "  print(layer.shape)"
      ],
      "execution_count": 42,
      "outputs": [
        {
          "output_type": "stream",
          "text": [
            "\n",
            "Shape or dimension of each layer in CNN:\n",
            "\n",
            "(784, 300)\n",
            "(300,)\n",
            "(300, 100)\n",
            "(100,)\n",
            "(100, 10)\n",
            "(10,)\n"
          ],
          "name": "stdout"
        }
      ]
    },
    {
      "cell_type": "code",
      "metadata": {
        "id": "wc7p1_uhKZ3F",
        "colab_type": "code",
        "colab": {}
      },
      "source": [
        "!pip install tensorflow_model_optimization"
      ],
      "execution_count": 0,
      "outputs": []
    },
    {
      "cell_type": "code",
      "metadata": {
        "id": "-yRribakKgNH",
        "colab_type": "code",
        "colab": {}
      },
      "source": [
        "from tensorflow_model_optimization.sparsity import keras as sparsity"
      ],
      "execution_count": 0,
      "outputs": []
    },
    {
      "cell_type": "markdown",
      "metadata": {
        "id": "1fwKjobtB672",
        "colab_type": "text"
      },
      "source": [
        "**Neural Network Pruning:**\n",
        "\n",
        "To show pruning works with neural networks, the model is first pruned and trained for another 12 epochs"
      ]
    },
    {
      "cell_type": "code",
      "metadata": {
        "id": "s9vinjVzKkLZ",
        "colab_type": "code",
        "outputId": "2db6bb41-c44c-426a-cf0d-ea4d1e0794df",
        "colab": {
          "base_uri": "https://localhost:8080/",
          "height": 34
        }
      },
      "source": [
        "epochs = 12\n",
        "\n",
        "num_train_samples = X_train.shape[0]\n",
        "\n",
        "end_step = np.ceil(1.0 * num_train_samples / batch_size).astype(np.int32) * epochs\n",
        "\n",
        "print(\"end_step parameter for this dataset =  {0}\".format(end_step))"
      ],
      "execution_count": 45,
      "outputs": [
        {
          "output_type": "stream",
          "text": [
            "end_step parameter for this dataset =  5628\n"
          ],
          "name": "stdout"
        }
      ]
    },
    {
      "cell_type": "code",
      "metadata": {
        "id": "sA9XVag8Km6M",
        "colab_type": "code",
        "colab": {}
      },
      "source": [
        "# Specify the parameters to be used for layer-wise pruning:\n",
        "pruning_params = {\n",
        "    'pruning_schedule': sparsity.PolynomialDecay(\n",
        "        initial_sparsity=0.50, final_sparsity=0.90,\n",
        "        begin_step=2000, end_step=end_step, frequency=100)\n",
        "}"
      ],
      "execution_count": 0,
      "outputs": []
    },
    {
      "cell_type": "code",
      "metadata": {
        "id": "-ekG-O_zFO1a",
        "colab_type": "code",
        "colab": {
          "base_uri": "https://localhost:8080/",
          "height": 89
        },
        "outputId": "97a5a4eb-c753-4dd1-8370-b69e0cfebe06"
      },
      "source": [
        "pruned_model = Sequential()\n",
        "pruned_model.add(l.InputLayer(input_shape=(784, )))\n",
        "pruned_model.add(Flatten())\n",
        "pruned_model.add(sparsity.prune_low_magnitude(Dense(units = 300, activation='relu', kernel_initializer=tf.initializers.GlorotUniform()),\n",
        "                                              **pruning_params))\n",
        "pruned_model.add(l.Dropout(0.2))\n",
        "pruned_model.add(sparsity.prune_low_magnitude(Dense(units = 100, activation='relu', kernel_initializer=tf.initializers.GlorotUniform()),\n",
        "                                              **pruning_params))\n",
        "pruned_model.add(l.Dropout(0.1))\n",
        "pruned_model.add(sparsity.prune_low_magnitude(Dense(units = num_classes, activation='softmax'), **pruning_params))"
      ],
      "execution_count": 47,
      "outputs": [
        {
          "output_type": "stream",
          "text": [
            "WARNING:tensorflow:From /usr/local/lib/python3.6/dist-packages/tensorflow_model_optimization/python/core/sparsity/keras/pruning_wrapper.py:183: Layer.add_variable (from tensorflow.python.keras.engine.base_layer) is deprecated and will be removed in a future version.\n",
            "Instructions for updating:\n",
            "Please use `layer.add_weight` method instead.\n"
          ],
          "name": "stdout"
        }
      ]
    },
    {
      "cell_type": "code",
      "metadata": {
        "id": "uzh8FzeZDSDa",
        "colab_type": "code",
        "outputId": "e3a6f6df-8b0f-4f0b-9519-55c271778c0b",
        "colab": {
          "base_uri": "https://localhost:8080/",
          "height": 364
        }
      },
      "source": [
        "pruned_model.summary()"
      ],
      "execution_count": 48,
      "outputs": [
        {
          "output_type": "stream",
          "text": [
            "Model: \"sequential_3\"\n",
            "_________________________________________________________________\n",
            "Layer (type)                 Output Shape              Param #   \n",
            "=================================================================\n",
            "flatten_3 (Flatten)          (None, 784)               0         \n",
            "_________________________________________________________________\n",
            "prune_low_magnitude_dense_9  (None, 300)               470702    \n",
            "_________________________________________________________________\n",
            "dropout_4 (Dropout)          (None, 300)               0         \n",
            "_________________________________________________________________\n",
            "prune_low_magnitude_dense_10 (None, 100)               60102     \n",
            "_________________________________________________________________\n",
            "dropout_5 (Dropout)          (None, 100)               0         \n",
            "_________________________________________________________________\n",
            "prune_low_magnitude_dense_11 (None, 10)                2012      \n",
            "=================================================================\n",
            "Total params: 532,816\n",
            "Trainable params: 266,610\n",
            "Non-trainable params: 266,206\n",
            "_________________________________________________________________\n"
          ],
          "name": "stdout"
        }
      ]
    },
    {
      "cell_type": "code",
      "metadata": {
        "id": "o1mPEmeVFpDE",
        "colab_type": "code",
        "colab": {}
      },
      "source": [
        "# Compile pruned CNN-\n",
        "pruned_model.compile(\n",
        "    loss=tf.keras.losses.categorical_crossentropy,\n",
        "    optimizer='adam',\n",
        "    metrics=['accuracy'])"
      ],
      "execution_count": 0,
      "outputs": []
    },
    {
      "cell_type": "code",
      "metadata": {
        "id": "qcjfNdR3FtZ9",
        "colab_type": "code",
        "colab": {}
      },
      "source": [
        "# Add a pruning step callback to peg the pruning step to the optimizer's\n",
        "# step. Also add a callback to add pruning summaries to tensorboard\n",
        "callbacks = [\n",
        "             sparsity.UpdatePruningStep(),\n",
        "             # sparsity.PruningSummaries(log_dir = logdir, profile_batch=0),\n",
        "             tf.keras.callbacks.EarlyStopping(monitor='val_loss', patience = 3)\n",
        "]"
      ],
      "execution_count": 0,
      "outputs": []
    },
    {
      "cell_type": "code",
      "metadata": {
        "id": "R37HIVJUFz6_",
        "colab_type": "code",
        "outputId": "7fc20506-323f-4d9a-aa00-da50f9bb11f0",
        "colab": {
          "base_uri": "https://localhost:8080/",
          "height": 451
        }
      },
      "source": [
        "# Train pruned CNN-\n",
        "history_pruned = pruned_model.fit(x = X_train, y = y_train,\n",
        "          batch_size = batch_size,\n",
        "          epochs = 12,\n",
        "          verbose = 1,\n",
        "          callbacks = callbacks,\n",
        "          validation_data = (X_test, y_test))\n"
      ],
      "execution_count": 51,
      "outputs": [
        {
          "output_type": "stream",
          "text": [
            "Train on 60000 samples, validate on 10000 samples\n",
            "Epoch 1/12\n",
            "60000/60000 [==============================] - 4s 64us/sample - loss: 0.3161 - accuracy: 0.9062 - val_loss: 0.1313 - val_accuracy: 0.9604\n",
            "Epoch 2/12\n",
            "60000/60000 [==============================] - 3s 48us/sample - loss: 0.1317 - accuracy: 0.9610 - val_loss: 0.0953 - val_accuracy: 0.9720\n",
            "Epoch 3/12\n",
            "60000/60000 [==============================] - 3s 49us/sample - loss: 0.0950 - accuracy: 0.9707 - val_loss: 0.0759 - val_accuracy: 0.9761\n",
            "Epoch 4/12\n",
            "60000/60000 [==============================] - 3s 48us/sample - loss: 0.0740 - accuracy: 0.9768 - val_loss: 0.0697 - val_accuracy: 0.9777\n",
            "Epoch 5/12\n",
            "60000/60000 [==============================] - 3s 49us/sample - loss: 0.0630 - accuracy: 0.9811 - val_loss: 0.0633 - val_accuracy: 0.9813\n",
            "Epoch 6/12\n",
            "60000/60000 [==============================] - 3s 49us/sample - loss: 0.0612 - accuracy: 0.9814 - val_loss: 0.0680 - val_accuracy: 0.9784\n",
            "Epoch 7/12\n",
            "60000/60000 [==============================] - 3s 49us/sample - loss: 0.0602 - accuracy: 0.9822 - val_loss: 0.0593 - val_accuracy: 0.9826\n",
            "Epoch 8/12\n",
            "60000/60000 [==============================] - 3s 49us/sample - loss: 0.0622 - accuracy: 0.9825 - val_loss: 0.0600 - val_accuracy: 0.9818\n",
            "Epoch 9/12\n",
            "60000/60000 [==============================] - 3s 48us/sample - loss: 0.0622 - accuracy: 0.9822 - val_loss: 0.0595 - val_accuracy: 0.9821\n",
            "Epoch 10/12\n",
            "60000/60000 [==============================] - 3s 48us/sample - loss: 0.0609 - accuracy: 0.9827 - val_loss: 0.0564 - val_accuracy: 0.9831\n",
            "Epoch 11/12\n",
            "60000/60000 [==============================] - 3s 48us/sample - loss: 0.0562 - accuracy: 0.9830 - val_loss: 0.0559 - val_accuracy: 0.9834\n",
            "Epoch 12/12\n",
            "60000/60000 [==============================] - 3s 48us/sample - loss: 0.0483 - accuracy: 0.9855 - val_loss: 0.0513 - val_accuracy: 0.9843\n"
          ],
          "name": "stdout"
        }
      ]
    },
    {
      "cell_type": "code",
      "metadata": {
        "id": "_uQuKoR-GBR_",
        "colab_type": "code",
        "outputId": "57dd08ed-8e9e-43d6-97a4-52eda743ce04",
        "colab": {
          "base_uri": "https://localhost:8080/",
          "height": 69
        }
      },
      "source": [
        "# Evaluate pruned trained model on testing dataset-\n",
        "score = pruned_model.evaluate(X_test, y_test, verbose=0)\n",
        "\n",
        "print(\"\\nTesting dataset loss = {0:.4f} and accuracy = {1:.4f}\\n\".format(score[0], score[1]))"
      ],
      "execution_count": 52,
      "outputs": [
        {
          "output_type": "stream",
          "text": [
            "\n",
            "Testing dataset loss = 0.0513 and accuracy = 0.9843\n",
            "\n"
          ],
          "name": "stdout"
        }
      ]
    },
    {
      "cell_type": "markdown",
      "metadata": {
        "id": "pUB87hh8LXu-",
        "colab_type": "text"
      },
      "source": [
        "**Visualizing Pruned Neural Network Training**"
      ]
    },
    {
      "cell_type": "code",
      "metadata": {
        "id": "Ya6oQC0DLPUW",
        "colab_type": "code",
        "colab": {
          "base_uri": "https://localhost:8080/",
          "height": 642
        },
        "outputId": "5d602d03-4aa1-4728-a0ab-35eccceb9e6e"
      },
      "source": [
        "fig=plt.figure(figsize=(10, 9), dpi= 80, facecolor='w', edgecolor='k')\n",
        "\n",
        "plt.plot(history_pruned.history['accuracy'], label='training accuracy')\n",
        "plt.plot(history_pruned.history['val_accuracy'], label = 'testing accuracy')\n",
        "\n",
        "plt.title(\"MNIST (300, 100) PRUNED network training visualization\")\n",
        "plt.xlabel('# of epochs')\n",
        "plt.ylabel('Accuracy')\n",
        "plt.ylim([0.5, 1])\n",
        "plt.legend(loc='lower right')\n"
      ],
      "execution_count": 53,
      "outputs": [
        {
          "output_type": "execute_result",
          "data": {
            "text/plain": [
              "<matplotlib.legend.Legend at 0x7f8cc8c45908>"
            ]
          },
          "metadata": {
            "tags": []
          },
          "execution_count": 53
        },
        {
          "output_type": "display_data",
          "data": {
            "image/png": "[encoded data removed]",
            "text/plain": [
              "<Figure size 800x720 with 1 Axes>"
            ]
          },
          "metadata": {
            "tags": []
          }
        }
      ]
    },
    {
      "cell_type": "code",
      "metadata": {
        "id": "iXTiwXg-F3N4",
        "colab_type": "code",
        "colab": {}
      },
      "source": [
        "# Strip the pruning wrappers from pruned model-\n",
        "final_model_layer_wise = sparsity.strip_pruning(pruned_model)"
      ],
      "execution_count": 0,
      "outputs": []
    },
    {
      "cell_type": "code",
      "metadata": {
        "id": "JJeZoIKjD2Su",
        "colab_type": "code",
        "outputId": "5938437f-cb1f-4812-a71e-aa9570999de6",
        "colab": {
          "base_uri": "https://localhost:8080/",
          "height": 364
        }
      },
      "source": [
        "# Get stripped and pruned model summary-\n",
        "final_model_layer_wise.summary()"
      ],
      "execution_count": 55,
      "outputs": [
        {
          "output_type": "stream",
          "text": [
            "Model: \"sequential_3\"\n",
            "_________________________________________________________________\n",
            "Layer (type)                 Output Shape              Param #   \n",
            "=================================================================\n",
            "flatten_3 (Flatten)          (None, 784)               0         \n",
            "_________________________________________________________________\n",
            "dense_9 (Dense)              (None, 300)               235500    \n",
            "_________________________________________________________________\n",
            "dropout_4 (Dropout)          (None, 300)               0         \n",
            "_________________________________________________________________\n",
            "dense_10 (Dense)             (None, 100)               30100     \n",
            "_________________________________________________________________\n",
            "dropout_5 (Dropout)          (None, 100)               0         \n",
            "_________________________________________________________________\n",
            "dense_11 (Dense)             (None, 10)                1010      \n",
            "=================================================================\n",
            "Total params: 266,610\n",
            "Trainable params: 266,610\n",
            "Non-trainable params: 0\n",
            "_________________________________________________________________\n"
          ],
          "name": "stdout"
        }
      ]
    },
    {
      "cell_type": "code",
      "metadata": {
        "id": "Ix72CouRGhOg",
        "colab_type": "code",
        "outputId": "a24e2be1-8b58-4f3b-b0c2-aa97144c16b1",
        "colab": {
          "base_uri": "https://localhost:8080/",
          "height": 225
        }
      },
      "source": [
        "print(\"\\nIn original unpruned model, number of nonzero parameters in each layer are: \\n\")\n",
        "\n",
        "orig_sum_params = 0\n",
        "\n",
        "for layer in model.trainable_weights:\n",
        "  print(tf.math.count_nonzero(layer, axis = None).numpy())\n",
        "  orig_sum_params += tf.math.count_nonzero(layer, axis = None).numpy()\n",
        "\n",
        "print(\"\\nTotal number of trainable parameters = {0}\\n\".format(orig_sum_params))"
      ],
      "execution_count": 56,
      "outputs": [
        {
          "output_type": "stream",
          "text": [
            "\n",
            "In original unpruned model, number of nonzero parameters in each layer are: \n",
            "\n",
            "235200\n",
            "300\n",
            "30000\n",
            "100\n",
            "1000\n",
            "10\n",
            "\n",
            "Total number of trainable parameters = 266610\n",
            "\n"
          ],
          "name": "stdout"
        }
      ]
    },
    {
      "cell_type": "code",
      "metadata": {
        "id": "ST2Ax56gGkuv",
        "colab_type": "code",
        "outputId": "2a7c6219-7757-4d2d-aa39-14501c442453",
        "colab": {
          "base_uri": "https://localhost:8080/",
          "height": 225
        }
      },
      "source": [
        "print(\"\\nIn pruned model: layer-wise manner, number of nonzero parameters in each layer are: \\n\")\n",
        "\n",
        "pruned_sum_params = 0\n",
        "\n",
        "for layer in final_model_layer_wise.trainable_weights:\n",
        "  print(tf.math.count_nonzero(layer, axis = None).numpy())\n",
        "  pruned_sum_params += tf.math.count_nonzero(layer, axis = None).numpy()\n",
        "\n",
        "print(\"\\nTotal number of trainable parameters = {0}\\n\".format(pruned_sum_params))"
      ],
      "execution_count": 57,
      "outputs": [
        {
          "output_type": "stream",
          "text": [
            "\n",
            "In pruned model: layer-wise manner, number of nonzero parameters in each layer are: \n",
            "\n",
            "23520\n",
            "300\n",
            "3000\n",
            "100\n",
            "100\n",
            "10\n",
            "\n",
            "Total number of trainable parameters = 27030\n",
            "\n"
          ],
          "name": "stdout"
        }
      ]
    },
    {
      "cell_type": "code",
      "metadata": {
        "id": "T5vRcEMVGqx9",
        "colab_type": "code",
        "outputId": "2e10d7d9-0a98-4d05-bb12-73f71f109250",
        "colab": {
          "base_uri": "https://localhost:8080/",
          "height": 69
        }
      },
      "source": [
        "print(\"\\n% of connections pruned away = {0:.4f}\\n\".format(((orig_sum_params - pruned_sum_params) / orig_sum_params) * 100))"
      ],
      "execution_count": 58,
      "outputs": [
        {
          "output_type": "stream",
          "text": [
            "\n",
            "% of connections pruned away = 89.8616\n",
            "\n"
          ],
          "name": "stdout"
        }
      ]
    },
    {
      "cell_type": "code",
      "metadata": {
        "id": "hSk1tI9OGt3o",
        "colab_type": "code",
        "colab": {}
      },
      "source": [
        ""
      ],
      "execution_count": 0,
      "outputs": []
    }
  ]
}