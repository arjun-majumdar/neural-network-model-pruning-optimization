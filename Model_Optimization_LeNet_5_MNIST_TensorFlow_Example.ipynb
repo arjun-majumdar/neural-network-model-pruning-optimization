{
 "cells": [
  {
   "cell_type": "code",
   "execution_count": null,
   "metadata": {
    "colab": {},
    "colab_type": "code",
    "id": "e1I-KzFCHOGc"
   },
   "outputs": [],
   "source": [
    "!pip uninstall tensorflow"
   ]
  },
  {
   "cell_type": "code",
   "execution_count": null,
   "metadata": {
    "colab": {},
    "colab_type": "code",
    "id": "emg7IXZHHPHd"
   },
   "outputs": [],
   "source": [
    "!pip install tensorflow-gpu"
   ]
  },
  {
   "cell_type": "code",
   "execution_count": null,
   "metadata": {
    "colab": {},
    "colab_type": "code",
    "id": "n28jSoZQHUvN"
   },
   "outputs": [],
   "source": [
    "import tensorflow as tf\n",
    "import numpy as np"
   ]
  },
  {
   "cell_type": "code",
   "execution_count": 4,
   "metadata": {
    "colab": {
     "base_uri": "https://localhost:8080/",
     "height": 34
    },
    "colab_type": "code",
    "id": "ZafjCP0iHXhR",
    "outputId": "ba8d7e45-aca9-4e04-fa80-806d5e581b6d"
   },
   "outputs": [
    {
     "data": {
      "text/plain": [
       "'2.0.0'"
      ]
     },
     "execution_count": 4,
     "metadata": {
      "tags": []
     },
     "output_type": "execute_result"
    }
   ],
   "source": [
    "tf.__version__"
   ]
  },
  {
   "cell_type": "code",
   "execution_count": 5,
   "metadata": {
    "colab": {
     "base_uri": "https://localhost:8080/",
     "height": 68
    },
    "colab_type": "code",
    "id": "_Dzsnw65Had-",
    "outputId": "7a108b3e-b895-4e19-bd23-1b6c7d953810"
   },
   "outputs": [
    {
     "name": "stdout",
     "output_type": "stream",
     "text": [
      "\n",
      "Your GPU is available to TensorFlow\n",
      "\n"
     ]
    }
   ],
   "source": [
    "if tf.test.is_gpu_available():\n",
    "    print(\"\\nYour GPU is available to TensorFlow\\n\")\n",
    "else:\n",
    "    print(\"\\nYour GPU is NOT available to TensorFlow\\n\")\n"
   ]
  },
  {
   "cell_type": "code",
   "execution_count": 6,
   "metadata": {
    "colab": {
     "base_uri": "https://localhost:8080/",
     "height": 51
    },
    "colab_type": "code",
    "id": "VHgLaFSCHfuD",
    "outputId": "54cf98a2-b134-4338-c5f0-4eee7019882c"
   },
   "outputs": [
    {
     "name": "stdout",
     "output_type": "stream",
     "text": [
      "Is your GPU available for use?\n",
      "Yes, your GPU is available: True\n"
     ]
    }
   ],
   "source": [
    "print(('Is your GPU available for use?\\n{0}').format(\n",
    "    'Yes, your GPU is available: True' if tf.test.is_gpu_available() == True else 'No, your GPU is NOT available: False'\n",
    "))\n"
   ]
  },
  {
   "cell_type": "code",
   "execution_count": null,
   "metadata": {
    "colab": {},
    "colab_type": "code",
    "id": "5o-3nSFkHixk"
   },
   "outputs": [],
   "source": [
    "import matplotlib.pyplot as plt\n",
    "from tensorflow.keras.layers import AveragePooling2D, Conv2D\n",
    "from tensorflow.keras import models, layers\n",
    "from tensorflow.keras.models import Sequential\n",
    "from tensorflow.keras.initializers import RandomNormal\n",
    "# import math\n",
    "from sklearn.metrics import accuracy_score, precision_score, recall_score"
   ]
  },
  {
   "cell_type": "code",
   "execution_count": null,
   "metadata": {
    "colab": {},
    "colab_type": "code",
    "id": "x_ofAJhWIWPZ"
   },
   "outputs": [],
   "source": [
    "# Load and prepare the MNIST dataset-\n",
    "mnist = tf.keras.datasets.mnist"
   ]
  },
  {
   "cell_type": "code",
   "execution_count": 9,
   "metadata": {
    "colab": {
     "base_uri": "https://localhost:8080/",
     "height": 51
    },
    "colab_type": "code",
    "id": "TyPr2p7ZIY5q",
    "outputId": "5c6a3bea-9bd5-4edf-e410-14f9c546afe6"
   },
   "outputs": [
    {
     "name": "stdout",
     "output_type": "stream",
     "text": [
      "Downloading data from https://storage.googleapis.com/tensorflow/tf-keras-datasets/mnist.npz\n",
      "11493376/11490434 [==============================] - 0s 0us/step\n"
     ]
    }
   ],
   "source": [
    "# Load data from TensorFlow 2.0-\n",
    "(X_train, y_train), (X_test, y_test) = mnist.load_data()\n",
    "\n",
    "# Normalize dataset-\n",
    "X_train, X_test = X_train / 255.0, X_test / 255.0"
   ]
  },
  {
   "cell_type": "code",
   "execution_count": null,
   "metadata": {
    "colab": {},
    "colab_type": "code",
    "id": "zakhvTrvIbWL"
   },
   "outputs": [],
   "source": [
    "# Cast dataset to floating type-\n",
    "X_train = tf.cast(X_train, dtype=tf.float32)\n",
    "X_test = tf.cast(X_test, dtype=tf.float32)"
   ]
  },
  {
   "cell_type": "code",
   "execution_count": null,
   "metadata": {
    "colab": {},
    "colab_type": "code",
    "id": "bymti4lmId2P"
   },
   "outputs": [],
   "source": [
    "# Perform one-hot encoding for multi-class classification-\n",
    "n_classes = 10\n",
    "\n",
    "y_train_ohe = tf.keras.utils.to_categorical(y_train, n_classes)\n",
    "y_test_ohe = tf.keras.utils.to_categorical(y_test, n_classes)"
   ]
  },
  {
   "cell_type": "code",
   "execution_count": 12,
   "metadata": {
    "colab": {
     "base_uri": "https://localhost:8080/",
     "height": 85
    },
    "colab_type": "code",
    "id": "a_ikqJGJIi8u",
    "outputId": "3bae7cea-ab24-43d5-b590-bb35728afdcb"
   },
   "outputs": [
    {
     "name": "stdout",
     "output_type": "stream",
     "text": [
      "\n",
      "X_train.shape = (60000, 28, 28, 1) & y_train_ohe.shape = (60000, 10)\n",
      "X_test.shape = (10000, 28, 28, 1) & y_test_ohe.shape = (10000, 10)\n",
      "\n"
     ]
    }
   ],
   "source": [
    "# Reshape training and testing sets-\n",
    "X_train = tf.reshape(X_train, shape=(X_train.shape[0], 28, 28, 1))\n",
    "X_test = tf.reshape(X_test, shape = (X_test.shape[0], 28, 28, 1))\n",
    "\n",
    "print(\"\\nX_train.shape = {0} & y_train_ohe.shape = {1}\".format(X_train.shape, y_train_ohe.shape))\n",
    "print(\"X_test.shape = {0} & y_test_ohe.shape = {1}\\n\".format(X_test.shape, y_test_ohe.shape))"
   ]
  },
  {
   "cell_type": "code",
   "execution_count": null,
   "metadata": {
    "colab": {},
    "colab_type": "code",
    "id": "yoPrY4l3InUP"
   },
   "outputs": [],
   "source": [
    "train_dataset = tf.data.Dataset.from_tensor_slices((X_train, y_train_ohe))\n",
    "test_dataset = tf.data.Dataset.from_tensor_slices((X_test, y_test_ohe))"
   ]
  },
  {
   "cell_type": "code",
   "execution_count": null,
   "metadata": {
    "colab": {},
    "colab_type": "code",
    "id": "SV8xU9vkIt9I"
   },
   "outputs": [],
   "source": [
    "train_dataset = train_dataset.shuffle(20000).batch(128)"
   ]
  },
  {
   "cell_type": "markdown",
   "metadata": {
    "colab_type": "text",
    "id": "0MUdIPGaI571"
   },
   "source": [
    "Create CNN for LeNet-5 architecture for MNIST dataset"
   ]
  },
  {
   "cell_type": "code",
   "execution_count": null,
   "metadata": {
    "colab": {},
    "colab_type": "code",
    "id": "njXs4-40IxzS"
   },
   "outputs": [],
   "source": [
    "# Define the LeNet-5 CNN model for MNIST classification:\n",
    "\n",
    "model = Sequential()\n",
    "\n",
    "# Convolutional layer-1\n",
    "model.add(Conv2D(filters = 6, kernel_size = (5, 5),\n",
    "    strides = (1, 1), activation = 'relu', kernel_initializer=tf.initializers.glorot_normal),\n",
    "    input_shape = (28, 28, 1)))\n",
    "\n",
    "# Average pooling layer-1\n",
    "model.add(AveragePooling2D(pool_size = (2, 2), strides = (2, 2)))\n",
    "\n",
    "# Convolutional layer-2\n",
    "model.add(Conv2D(filters = 16, kernel_size = (5, 5),\n",
    "    strides = (1, 1), activation = 'relu',\n",
    "    kernel_initializer=tf.initializers.glorot_normal)))\n",
    "\n",
    "# Average pooling layer-2\n",
    "model.add(AveragePooling2D(pool_size = (2, 2), strides = (2, 2)))\n",
    "\n",
    "# Flatten the output-\n",
    "model.add(layers.Flatten())\n",
    "\n",
    "# Fully connected layer-\n",
    "model.add(layers.Dense(units = 120, activation = 'relu',\n",
    "  kernel_initializer=tf.initializers.glorot_normal)))\n",
    "\n",
    "# Another flattening of the previous layer-\n",
    "model.add(layers.Flatten())\n",
    "\n",
    "# Fully connected layer-\n",
    "model.add(layers.Dense(units = 84, activation = 'relu'\n",
    "  kernel_initializer=tf.initializers.glorot_normal)))\n",
    "\n",
    "# Output layer-\n",
    "model.add(layers.Dense(units = 10, activation = 'softmax'))\n"
   ]
  },
  {
   "cell_type": "code",
   "execution_count": null,
   "metadata": {
    "colab": {},
    "colab_type": "code",
    "id": "gUmVim0MJBI9"
   },
   "outputs": [],
   "source": [
    "# Define an optimizer for the model to choose-\n",
    "optimizer_SGD = tf.keras.optimizers.SGD(lr = 0.001, momentum=0.0, decay = 0.0)"
   ]
  },
  {
   "cell_type": "code",
   "execution_count": null,
   "metadata": {
    "colab": {},
    "colab_type": "code",
    "id": "qLmp-8LJJaAH"
   },
   "outputs": [],
   "source": [
    "model.compile(\n",
    "    optimizer=optimizer_SGD,\n",
    "    loss=tf.keras.losses.categorical_crossentropy,\n",
    "    metrics = ['accuracy']\n",
    "    )"
   ]
  },
  {
   "cell_type": "code",
   "execution_count": null,
   "metadata": {
    "colab": {},
    "colab_type": "code",
    "id": "bUQ6PYOlLNV8"
   },
   "outputs": [],
   "source": [
    "# Use early stopping-\n",
    "callback = tf.keras.callbacks.EarlyStopping(\n",
    "    monitor='val_loss',\n",
    "    patience = 3,\n",
    "    restore_best_weights = True)"
   ]
  },
  {
   "cell_type": "code",
   "execution_count": 19,
   "metadata": {
    "colab": {
     "base_uri": "https://localhost:8080/",
     "height": 1000
    },
    "colab_type": "code",
    "id": "KBY19OnMJEKa",
    "outputId": "b86c2b0c-a52a-4de3-b1be-c904d2939830"
   },
   "outputs": [
    {
     "name": "stdout",
     "output_type": "stream",
     "text": [
      "Train on 60000 samples, validate on 10000 samples\n",
      "Epoch 1/100\n",
      "60000/60000 [==============================] - 15s 245us/sample - loss: 2.2729 - accuracy: 0.1347 - val_loss: 2.2170 - val_accuracy: 0.2529\n",
      "Epoch 2/100\n",
      "60000/60000 [==============================] - 8s 134us/sample - loss: 1.6955 - accuracy: 0.5599 - val_loss: 0.7774 - val_accuracy: 0.8057\n",
      "Epoch 3/100\n",
      "60000/60000 [==============================] - 8s 134us/sample - loss: 0.5702 - accuracy: 0.8370 - val_loss: 0.4338 - val_accuracy: 0.8690\n",
      "Epoch 4/100\n",
      "60000/60000 [==============================] - 8s 134us/sample - loss: 0.4120 - accuracy: 0.8777 - val_loss: 0.3589 - val_accuracy: 0.8933\n",
      "Epoch 5/100\n",
      "60000/60000 [==============================] - 8s 135us/sample - loss: 0.3538 - accuracy: 0.8938 - val_loss: 0.3125 - val_accuracy: 0.9082\n",
      "Epoch 6/100\n",
      "60000/60000 [==============================] - 8s 141us/sample - loss: 0.3173 - accuracy: 0.9049 - val_loss: 0.2863 - val_accuracy: 0.9103\n",
      "Epoch 7/100\n",
      "60000/60000 [==============================] - 8s 135us/sample - loss: 0.2899 - accuracy: 0.9122 - val_loss: 0.2581 - val_accuracy: 0.9204\n",
      "Epoch 8/100\n",
      "60000/60000 [==============================] - 8s 135us/sample - loss: 0.2684 - accuracy: 0.9195 - val_loss: 0.2485 - val_accuracy: 0.9276\n",
      "Epoch 9/100\n",
      "60000/60000 [==============================] - 8s 137us/sample - loss: 0.2507 - accuracy: 0.9245 - val_loss: 0.2269 - val_accuracy: 0.9305\n",
      "Epoch 10/100\n",
      "60000/60000 [==============================] - 8s 136us/sample - loss: 0.2351 - accuracy: 0.9283 - val_loss: 0.2148 - val_accuracy: 0.9376\n",
      "Epoch 11/100\n",
      "60000/60000 [==============================] - 8s 133us/sample - loss: 0.2225 - accuracy: 0.9327 - val_loss: 0.1976 - val_accuracy: 0.9409\n",
      "Epoch 12/100\n",
      "60000/60000 [==============================] - 8s 134us/sample - loss: 0.2110 - accuracy: 0.9360 - val_loss: 0.1912 - val_accuracy: 0.9412\n",
      "Epoch 13/100\n",
      "60000/60000 [==============================] - 8s 133us/sample - loss: 0.2008 - accuracy: 0.9390 - val_loss: 0.1811 - val_accuracy: 0.9457\n",
      "Epoch 14/100\n",
      "60000/60000 [==============================] - 8s 133us/sample - loss: 0.1909 - accuracy: 0.9424 - val_loss: 0.1749 - val_accuracy: 0.9460\n",
      "Epoch 15/100\n",
      "60000/60000 [==============================] - 8s 133us/sample - loss: 0.1828 - accuracy: 0.9444 - val_loss: 0.1651 - val_accuracy: 0.9511\n",
      "Epoch 16/100\n",
      "60000/60000 [==============================] - 8s 134us/sample - loss: 0.1755 - accuracy: 0.9470 - val_loss: 0.1630 - val_accuracy: 0.9474\n",
      "Epoch 17/100\n",
      "60000/60000 [==============================] - 8s 134us/sample - loss: 0.1683 - accuracy: 0.9492 - val_loss: 0.1520 - val_accuracy: 0.9510\n",
      "Epoch 18/100\n",
      "60000/60000 [==============================] - 8s 131us/sample - loss: 0.1616 - accuracy: 0.9514 - val_loss: 0.1554 - val_accuracy: 0.9542\n",
      "Epoch 19/100\n",
      "60000/60000 [==============================] - 8s 134us/sample - loss: 0.1554 - accuracy: 0.9536 - val_loss: 0.1497 - val_accuracy: 0.9545\n",
      "Epoch 20/100\n",
      "60000/60000 [==============================] - 8s 135us/sample - loss: 0.1496 - accuracy: 0.9549 - val_loss: 0.1370 - val_accuracy: 0.9580\n",
      "Epoch 21/100\n",
      "60000/60000 [==============================] - 8s 134us/sample - loss: 0.1444 - accuracy: 0.9558 - val_loss: 0.1340 - val_accuracy: 0.9601\n",
      "Epoch 22/100\n",
      "60000/60000 [==============================] - 8s 133us/sample - loss: 0.1395 - accuracy: 0.9581 - val_loss: 0.1332 - val_accuracy: 0.9604\n",
      "Epoch 23/100\n",
      "60000/60000 [==============================] - 8s 133us/sample - loss: 0.1349 - accuracy: 0.9592 - val_loss: 0.1275 - val_accuracy: 0.9608\n",
      "Epoch 24/100\n",
      "60000/60000 [==============================] - 8s 133us/sample - loss: 0.1307 - accuracy: 0.9602 - val_loss: 0.1223 - val_accuracy: 0.9639\n",
      "Epoch 25/100\n",
      "60000/60000 [==============================] - 8s 132us/sample - loss: 0.1264 - accuracy: 0.9619 - val_loss: 0.1177 - val_accuracy: 0.9637\n",
      "Epoch 26/100\n",
      "60000/60000 [==============================] - 8s 133us/sample - loss: 0.1239 - accuracy: 0.9625 - val_loss: 0.1200 - val_accuracy: 0.9632\n",
      "Epoch 27/100\n",
      "60000/60000 [==============================] - 8s 133us/sample - loss: 0.1198 - accuracy: 0.9638 - val_loss: 0.1135 - val_accuracy: 0.9663\n",
      "Epoch 28/100\n",
      "60000/60000 [==============================] - 8s 132us/sample - loss: 0.1170 - accuracy: 0.9646 - val_loss: 0.1090 - val_accuracy: 0.9651\n",
      "Epoch 29/100\n",
      "60000/60000 [==============================] - 8s 133us/sample - loss: 0.1141 - accuracy: 0.9655 - val_loss: 0.1122 - val_accuracy: 0.9667\n",
      "Epoch 30/100\n",
      "60000/60000 [==============================] - 8s 133us/sample - loss: 0.1114 - accuracy: 0.9663 - val_loss: 0.1066 - val_accuracy: 0.9667\n",
      "Epoch 31/100\n",
      "60000/60000 [==============================] - 8s 133us/sample - loss: 0.1082 - accuracy: 0.9671 - val_loss: 0.1027 - val_accuracy: 0.9689\n",
      "Epoch 32/100\n",
      "60000/60000 [==============================] - 8s 132us/sample - loss: 0.1058 - accuracy: 0.9676 - val_loss: 0.1011 - val_accuracy: 0.9686\n",
      "Epoch 33/100\n",
      "60000/60000 [==============================] - 8s 132us/sample - loss: 0.1033 - accuracy: 0.9687 - val_loss: 0.0997 - val_accuracy: 0.9694\n",
      "Epoch 34/100\n",
      "60000/60000 [==============================] - 8s 132us/sample - loss: 0.1012 - accuracy: 0.9692 - val_loss: 0.1028 - val_accuracy: 0.9703\n",
      "Epoch 35/100\n",
      "60000/60000 [==============================] - 8s 132us/sample - loss: 0.0993 - accuracy: 0.9707 - val_loss: 0.1026 - val_accuracy: 0.9684\n",
      "Epoch 36/100\n",
      "60000/60000 [==============================] - 8s 132us/sample - loss: 0.0969 - accuracy: 0.9701 - val_loss: 0.0995 - val_accuracy: 0.9705\n",
      "Epoch 37/100\n",
      "60000/60000 [==============================] - 8s 132us/sample - loss: 0.0954 - accuracy: 0.9706 - val_loss: 0.0923 - val_accuracy: 0.9720\n",
      "Epoch 38/100\n",
      "60000/60000 [==============================] - 8s 132us/sample - loss: 0.0932 - accuracy: 0.9716 - val_loss: 0.0910 - val_accuracy: 0.9720\n",
      "Epoch 39/100\n",
      "60000/60000 [==============================] - 8s 132us/sample - loss: 0.0916 - accuracy: 0.9720 - val_loss: 0.0919 - val_accuracy: 0.9715\n",
      "Epoch 40/100\n",
      "60000/60000 [==============================] - 8s 131us/sample - loss: 0.0900 - accuracy: 0.9726 - val_loss: 0.0904 - val_accuracy: 0.9709\n",
      "Epoch 41/100\n",
      "60000/60000 [==============================] - 8s 131us/sample - loss: 0.0879 - accuracy: 0.9736 - val_loss: 0.0969 - val_accuracy: 0.9704\n",
      "Epoch 42/100\n",
      "60000/60000 [==============================] - 8s 131us/sample - loss: 0.0869 - accuracy: 0.9736 - val_loss: 0.0863 - val_accuracy: 0.9740\n",
      "Epoch 43/100\n",
      "60000/60000 [==============================] - 8s 130us/sample - loss: 0.0853 - accuracy: 0.9742 - val_loss: 0.0900 - val_accuracy: 0.9719\n",
      "Epoch 44/100\n",
      "60000/60000 [==============================] - 8s 134us/sample - loss: 0.0841 - accuracy: 0.9748 - val_loss: 0.0914 - val_accuracy: 0.9709\n",
      "Epoch 45/100\n",
      "60000/60000 [==============================] - 8s 138us/sample - loss: 0.0824 - accuracy: 0.9750 - val_loss: 0.0856 - val_accuracy: 0.9731\n",
      "Epoch 46/100\n",
      "60000/60000 [==============================] - 8s 130us/sample - loss: 0.0813 - accuracy: 0.9751 - val_loss: 0.0824 - val_accuracy: 0.9743\n",
      "Epoch 47/100\n",
      "60000/60000 [==============================] - 8s 131us/sample - loss: 0.0803 - accuracy: 0.9762 - val_loss: 0.0833 - val_accuracy: 0.9746\n",
      "Epoch 48/100\n",
      "60000/60000 [==============================] - 8s 134us/sample - loss: 0.0787 - accuracy: 0.9760 - val_loss: 0.0827 - val_accuracy: 0.9737\n",
      "Epoch 49/100\n",
      "60000/60000 [==============================] - 8s 130us/sample - loss: 0.0775 - accuracy: 0.9761 - val_loss: 0.0801 - val_accuracy: 0.9760\n",
      "Epoch 50/100\n",
      "60000/60000 [==============================] - 8s 131us/sample - loss: 0.0765 - accuracy: 0.9766 - val_loss: 0.0809 - val_accuracy: 0.9748\n",
      "Epoch 51/100\n",
      "60000/60000 [==============================] - 8s 131us/sample - loss: 0.0751 - accuracy: 0.9771 - val_loss: 0.0799 - val_accuracy: 0.9760\n",
      "Epoch 52/100\n",
      "60000/60000 [==============================] - 8s 130us/sample - loss: 0.0741 - accuracy: 0.9773 - val_loss: 0.0802 - val_accuracy: 0.9748\n",
      "Epoch 53/100\n",
      "60000/60000 [==============================] - 8s 130us/sample - loss: 0.0730 - accuracy: 0.9782 - val_loss: 0.0771 - val_accuracy: 0.9759\n",
      "Epoch 54/100\n",
      "60000/60000 [==============================] - 8s 130us/sample - loss: 0.0722 - accuracy: 0.9783 - val_loss: 0.0735 - val_accuracy: 0.9766\n",
      "Epoch 55/100\n",
      "60000/60000 [==============================] - 8s 130us/sample - loss: 0.0714 - accuracy: 0.9780 - val_loss: 0.0729 - val_accuracy: 0.9775\n",
      "Epoch 56/100\n",
      "60000/60000 [==============================] - 8s 131us/sample - loss: 0.0703 - accuracy: 0.9790 - val_loss: 0.0735 - val_accuracy: 0.9765\n",
      "Epoch 57/100\n",
      "60000/60000 [==============================] - 8s 131us/sample - loss: 0.0688 - accuracy: 0.9790 - val_loss: 0.0750 - val_accuracy: 0.9766\n",
      "Epoch 58/100\n",
      "60000/60000 [==============================] - 8s 131us/sample - loss: 0.0682 - accuracy: 0.9789 - val_loss: 0.0725 - val_accuracy: 0.9771\n",
      "Epoch 59/100\n",
      "60000/60000 [==============================] - 8s 132us/sample - loss: 0.0678 - accuracy: 0.9794 - val_loss: 0.0707 - val_accuracy: 0.9782\n",
      "Epoch 60/100\n",
      "60000/60000 [==============================] - 8s 130us/sample - loss: 0.0666 - accuracy: 0.9799 - val_loss: 0.0711 - val_accuracy: 0.9774\n",
      "Epoch 61/100\n",
      "60000/60000 [==============================] - 8s 131us/sample - loss: 0.0659 - accuracy: 0.9804 - val_loss: 0.0760 - val_accuracy: 0.9758\n",
      "Epoch 62/100\n",
      "60000/60000 [==============================] - 8s 130us/sample - loss: 0.0653 - accuracy: 0.9801 - val_loss: 0.0699 - val_accuracy: 0.9771\n",
      "Epoch 63/100\n",
      "60000/60000 [==============================] - 8s 130us/sample - loss: 0.0641 - accuracy: 0.9811 - val_loss: 0.0683 - val_accuracy: 0.9780\n",
      "Epoch 64/100\n",
      "60000/60000 [==============================] - 8s 130us/sample - loss: 0.0635 - accuracy: 0.9814 - val_loss: 0.0716 - val_accuracy: 0.9764\n",
      "Epoch 65/100\n",
      "60000/60000 [==============================] - 8s 130us/sample - loss: 0.0626 - accuracy: 0.9814 - val_loss: 0.0705 - val_accuracy: 0.9786\n",
      "Epoch 66/100\n",
      "60000/60000 [==============================] - 8s 131us/sample - loss: 0.0622 - accuracy: 0.9816 - val_loss: 0.0660 - val_accuracy: 0.9795\n",
      "Epoch 67/100\n",
      "60000/60000 [==============================] - 8s 130us/sample - loss: 0.0612 - accuracy: 0.9816 - val_loss: 0.0699 - val_accuracy: 0.9775\n",
      "Epoch 68/100\n",
      "60000/60000 [==============================] - 8s 129us/sample - loss: 0.0610 - accuracy: 0.9811 - val_loss: 0.0672 - val_accuracy: 0.9794\n",
      "Epoch 69/100\n",
      "60000/60000 [==============================] - 8s 130us/sample - loss: 0.0600 - accuracy: 0.9819 - val_loss: 0.0668 - val_accuracy: 0.9789\n"
     ]
    }
   ],
   "source": [
    "# Train defined model-\n",
    "history = model.fit(\n",
    "\tx = X_train, y = y_train_ohe,\n",
    "\tepochs = 100, callbacks=[callback],\n",
    "  validation_data = [X_test, y_test_ohe]\n",
    "\t)\n",
    "\n",
    "# https://www.tensorflow.org/api_docs/python/tf/keras/callbacks/EarlyStopping?version=stable"
   ]
  },
  {
   "cell_type": "code",
   "execution_count": null,
   "metadata": {
    "colab": {},
    "colab_type": "code",
    "id": "_zQT_ZM1Q_LD"
   },
   "outputs": [],
   "source": [
    "score = model.evaluate(X_test, y_test_ohe, verbose=0)"
   ]
  },
  {
   "cell_type": "code",
   "execution_count": 22,
   "metadata": {
    "colab": {
     "base_uri": "https://localhost:8080/",
     "height": 85
    },
    "colab_type": "code",
    "id": "d0u3-nI-scih",
    "outputId": "af504251-990c-4562-f996-f23f4d4139f7"
   },
   "outputs": [
    {
     "name": "stdout",
     "output_type": "stream",
     "text": [
      "\n",
      "LeNet-5 CNN MNIST original model metrics on test dataset are:\n",
      "loss = 0.0660 & accuracy = 0.9795\n",
      "\n"
     ]
    }
   ],
   "source": [
    "print(\"\\nLeNet-5 CNN MNIST original model metrics on test dataset are:\")\n",
    "print(\"loss = {0:.4f} & accuracy = {1:.4f}\\n\".format(score[0], score[1]))"
   ]
  },
  {
   "cell_type": "code",
   "execution_count": 24,
   "metadata": {
    "colab": {
     "base_uri": "https://localhost:8080/",
     "height": 527
    },
    "colab_type": "code",
    "id": "Py_LLvc5soqv",
    "outputId": "5a8afc34-5c53-4833-f566-a27d911e84cc"
   },
   "outputs": [
    {
     "name": "stdout",
     "output_type": "stream",
     "text": [
      "\n",
      "Original LenNet-5 CNN on MNIST dataset is:\n",
      "\n",
      "Model: \"sequential\"\n",
      "_________________________________________________________________\n",
      "Layer (type)                 Output Shape              Param #   \n",
      "=================================================================\n",
      "conv2d (Conv2D)              (None, 24, 24, 6)         156       \n",
      "_________________________________________________________________\n",
      "average_pooling2d (AveragePo (None, 12, 12, 6)         0         \n",
      "_________________________________________________________________\n",
      "conv2d_1 (Conv2D)            (None, 8, 8, 16)          2416      \n",
      "_________________________________________________________________\n",
      "average_pooling2d_1 (Average (None, 4, 4, 16)          0         \n",
      "_________________________________________________________________\n",
      "flatten (Flatten)            (None, 256)               0         \n",
      "_________________________________________________________________\n",
      "dense (Dense)                (None, 120)               30840     \n",
      "_________________________________________________________________\n",
      "flatten_1 (Flatten)          (None, 120)               0         \n",
      "_________________________________________________________________\n",
      "dense_1 (Dense)              (None, 84)                10164     \n",
      "_________________________________________________________________\n",
      "dense_2 (Dense)              (None, 10)                850       \n",
      "=================================================================\n",
      "Total params: 44,426\n",
      "Trainable params: 44,426\n",
      "Non-trainable params: 0\n",
      "_________________________________________________________________\n",
      "None\n"
     ]
    }
   ],
   "source": [
    "print(\"\\nOriginal LenNet-5 CNN on MNIST dataset is:\\n\")\n",
    "print(model.summary())"
   ]
  },
  {
   "cell_type": "code",
   "execution_count": null,
   "metadata": {
    "colab": {},
    "colab_type": "code",
    "id": "G_8n_Nh9RqTF"
   },
   "outputs": [],
   "source": [
    "# Make predictions using trained model-\n",
    "y_pred = model.predict_classes(X_test)"
   ]
  },
  {
   "cell_type": "code",
   "execution_count": 28,
   "metadata": {
    "colab": {
     "base_uri": "https://localhost:8080/",
     "height": 34
    },
    "colab_type": "code",
    "id": "7DHWXeEKRtB8",
    "outputId": "4c83f372-fd11-4677-9867-2ec3ee936576"
   },
   "outputs": [
    {
     "data": {
      "text/plain": [
       "(10000,)"
      ]
     },
     "execution_count": 28,
     "metadata": {
      "tags": []
     },
     "output_type": "execute_result"
    }
   ],
   "source": [
    "y_pred.shape"
   ]
  },
  {
   "cell_type": "code",
   "execution_count": null,
   "metadata": {
    "colab": {},
    "colab_type": "code",
    "id": "XVOy0m9kRuep"
   },
   "outputs": [],
   "source": [
    "# Get trained model metrics-\n",
    "accuracy = accuracy_score(y_test, y_pred)\n",
    "precision = precision_score(y_test, y_pred, average = 'macro')\n",
    "recall = recall_score(y_test, y_pred, average = 'macro')"
   ]
  },
  {
   "cell_type": "code",
   "execution_count": 30,
   "metadata": {
    "colab": {
     "base_uri": "https://localhost:8080/",
     "height": 85
    },
    "colab_type": "code",
    "id": "UyxAVMGAR30-",
    "outputId": "82ac1f17-ba55-40e3-a44f-d28706881566"
   },
   "outputs": [
    {
     "name": "stdout",
     "output_type": "stream",
     "text": [
      "\n",
      "Trained LeNet-5 CNN model metrics are:\n",
      "accuracy = 0.9795, precision = 0.9794 & recall = 0.9793\n",
      "\n"
     ]
    }
   ],
   "source": [
    "print(\"\\nTrained LeNet-5 CNN model metrics are:\")\n",
    "print(\"accuracy = {0:.4f}, precision = {1:.4f} & recall = {2:.4f}\\n\".format(accuracy, precision, recall))"
   ]
  },
  {
   "cell_type": "code",
   "execution_count": 36,
   "metadata": {
    "colab": {
     "base_uri": "https://localhost:8080/",
     "height": 34
    },
    "colab_type": "code",
    "id": "qE-RsG0GtCdt",
    "outputId": "be1ab4bf-4350-4714-d0bc-ad029c713310"
   },
   "outputs": [
    {
     "data": {
      "text/plain": [
       "69"
      ]
     },
     "execution_count": 36,
     "metadata": {
      "tags": []
     },
     "output_type": "execute_result"
    }
   ],
   "source": [
    "len(history.history['accuracy'])"
   ]
  },
  {
   "cell_type": "markdown",
   "metadata": {
    "colab_type": "text",
    "id": "o5A4uPz0tl0g"
   },
   "source": [
    "The CNN was trained for 69 epochs after which earlystopping stopped training as 'val_loss' stopped increasing with a patience of 3"
   ]
  },
  {
   "cell_type": "code",
   "execution_count": 38,
   "metadata": {
    "colab": {
     "base_uri": "https://localhost:8080/",
     "height": 34
    },
    "colab_type": "code",
    "id": "ssbKsdrLtVPX",
    "outputId": "dae3a9bb-b7d8-4562-9368-21d0c617ccf7"
   },
   "outputs": [
    {
     "data": {
      "text/plain": [
       "dict_keys(['loss', 'accuracy', 'val_loss', 'val_accuracy'])"
      ]
     },
     "execution_count": 38,
     "metadata": {
      "tags": []
     },
     "output_type": "execute_result"
    }
   ],
   "source": [
    "history.history.keys()"
   ]
  },
  {
   "cell_type": "code",
   "execution_count": 42,
   "metadata": {
    "colab": {
     "base_uri": "https://localhost:8080/",
     "height": 746
    },
    "colab_type": "code",
    "id": "rvaNsLbwKIWw",
    "outputId": "3dab1662-e1dc-457b-d2d8-01aed2e63e18"
   },
   "outputs": [
    {
     "data": {
      "image/png": "[encoded data removed]",
      "text/plain": [
       "<Figure size 1120x880 with 1 Axes>"
      ]
     },
     "metadata": {
      "tags": []
     },
     "output_type": "display_data"
    }
   ],
   "source": [
    "# We can visualize the loss over epochs to get an overview-\n",
    "fig=plt.figure(figsize=(14, 11), dpi= 80, facecolor='w', edgecolor='k')\n",
    "\n",
    "plt.plot(history.history['loss'], label = 'training loss')\n",
    "plt.plot(history.history['val_loss'], label = 'testing loss')\n",
    "plt.plot(history.history['accuracy'], label = 'training accuracy')\n",
    "plt.plot(history.history['val_accuracy'], label = 'testing accuracy')\n",
    "\n",
    "plt.title('LeNet-5 CNN loss')\n",
    "plt.ylabel('loss/accuracy')\n",
    "plt.xlabel('epoch')\n",
    "# plt.legend(['train', 'test'], loc='upper right')\n",
    "plt.legend(loc = 'upper right')\n",
    "plt.show()\n"
   ]
  },
  {
   "cell_type": "code",
   "execution_count": null,
   "metadata": {
    "colab": {},
    "colab_type": "code",
    "id": "l9PqxbVyNMHY"
   },
   "outputs": [],
   "source": [
    "!pip install tensorflow-model-optimization"
   ]
  },
  {
   "cell_type": "code",
   "execution_count": null,
   "metadata": {
    "colab": {},
    "colab_type": "code",
    "id": "7pJOpPX8NOXN"
   },
   "outputs": [],
   "source": [
    "import tensorflow_model_optimization as tfmot\n",
    "from tensorflow_model_optimization.sparsity import keras as sparsity"
   ]
  },
  {
   "cell_type": "code",
   "execution_count": 45,
   "metadata": {
    "colab": {
     "base_uri": "https://localhost:8080/",
     "height": 68
    },
    "colab_type": "code",
    "id": "E49uzA0NOF0K",
    "outputId": "96e82c53-1ae9-4ea4-a4f3-7d1b0d3a500c"
   },
   "outputs": [
    {
     "name": "stdout",
     "output_type": "stream",
     "text": [
      "\n",
      "Original CNN trained for 69 epochs\n",
      "\n"
     ]
    }
   ],
   "source": [
    "batch_size = 128\n",
    "epochs = len(history.history['accuracy'])\n",
    "\n",
    "print(\"\\nOriginal CNN trained for {0} epochs\\n\".format(epochs))"
   ]
  },
  {
   "cell_type": "code",
   "execution_count": 46,
   "metadata": {
    "colab": {
     "base_uri": "https://localhost:8080/",
     "height": 34
    },
    "colab_type": "code",
    "id": "-1pqmDaiN54U",
    "outputId": "d9a2f53b-094e-41f4-e0db-8d2f79632c6f"
   },
   "outputs": [
    {
     "data": {
      "text/plain": [
       "32361.0"
      ]
     },
     "execution_count": 46,
     "metadata": {
      "tags": []
     },
     "output_type": "execute_result"
    }
   ],
   "source": [
    "# end_step = np.ceil(1.0 * X_train / batch_size).astype(np.int32) * epochs\n",
    "end_step = np.ceil(X_train.shape[0] / 128) * epochs\n",
    "end_step"
   ]
  },
  {
   "cell_type": "code",
   "execution_count": null,
   "metadata": {
    "colab": {},
    "colab_type": "code",
    "id": "nRHUiAu6NTnF"
   },
   "outputs": [],
   "source": [
    "pruning_schedule = tfmot.sparsity.keras.PolynomialDecay(\n",
    "  initial_sparsity = 0.0, final_sparsity = 0.9,\n",
    "  begin_step = 2000, end_step = end_step,\n",
    "  frequency = 100)"
   ]
  },
  {
   "cell_type": "code",
   "execution_count": 48,
   "metadata": {
    "colab": {
     "base_uri": "https://localhost:8080/",
     "height": 88
    },
    "colab_type": "code",
    "id": "q6LX7CNdOpk1",
    "outputId": "6fe67af8-e1ef-47df-9265-bb4526a4ec8a"
   },
   "outputs": [
    {
     "name": "stdout",
     "output_type": "stream",
     "text": [
      "WARNING:tensorflow:From /usr/local/lib/python3.6/dist-packages/tensorflow_model_optimization/python/core/sparsity/keras/pruning_wrapper.py:183: Layer.add_variable (from tensorflow.python.keras.engine.base_layer) is deprecated and will be removed in a future version.\n",
      "Instructions for updating:\n",
      "Please use `layer.add_weight` method instead.\n"
     ]
    }
   ],
   "source": [
    "model_pruning = tfmot.sparsity.keras.prune_low_magnitude(model, pruning_schedule= pruning_schedule)"
   ]
  },
  {
   "cell_type": "code",
   "execution_count": 49,
   "metadata": {
    "colab": {
     "base_uri": "https://localhost:8080/",
     "height": 34
    },
    "colab_type": "code",
    "id": "Nqmdt7fEPezu",
    "outputId": "6d753cde-e7b3-4f81-e25d-71a04ee1aaf8"
   },
   "outputs": [
    {
     "data": {
      "text/plain": [
       "\"\\npruned_model.compile(\\n    loss=tf.keras.losses.categorical_crossentropy,\\n    optimizer='adam',\\n    metrics=['accuracy'])\\n\""
      ]
     },
     "execution_count": 49,
     "metadata": {
      "tags": []
     },
     "output_type": "execute_result"
    }
   ],
   "source": [
    "# Compile the defined pruned model-\n",
    "model_pruning.compile(optimizer=optimizer_SGD,\n",
    "                      loss=tf.keras.losses.categorical_crossentropy,\n",
    "                      metrics = ['accuracy'])\n",
    "\n",
    "\"\"\"\n",
    "pruned_model.compile(\n",
    "    loss=tf.keras.losses.categorical_crossentropy,\n",
    "    optimizer='adam',\n",
    "    metrics=['accuracy'])\n",
    "\"\"\""
   ]
  },
  {
   "cell_type": "code",
   "execution_count": null,
   "metadata": {
    "colab": {},
    "colab_type": "code",
    "id": "_Cu65UrRQYVQ"
   },
   "outputs": [],
   "source": [
    "callbacks = [\n",
    "    sparsity.UpdatePruningStep()\n",
    "    # sparsity.PruningSummaries(log_dir=logdir, profile_batch=0)\n",
    "]\n",
    "\n",
    "# callback = tf.keras.callbacks.EarlyStopping(monitor='val_loss', patience=3, restore_best_weights = True)"
   ]
  },
  {
   "cell_type": "code",
   "execution_count": 51,
   "metadata": {
    "colab": {
     "base_uri": "https://localhost:8080/",
     "height": 1000
    },
    "colab_type": "code",
    "id": "22gulLyMO9Vw",
    "outputId": "26611661-44cf-44aa-b26e-514db40ab2da"
   },
   "outputs": [
    {
     "name": "stdout",
     "output_type": "stream",
     "text": [
      "Train on 60000 samples, validate on 10000 samples\n",
      "Epoch 1/100\n",
      "60000/60000 [==============================] - 8s 134us/sample - loss: 0.0572 - accuracy: 0.9828 - val_loss: 0.0652 - val_accuracy: 0.9797\n",
      "Epoch 2/100\n",
      "60000/60000 [==============================] - 7s 110us/sample - loss: 0.0566 - accuracy: 0.9833 - val_loss: 0.0647 - val_accuracy: 0.9801\n",
      "Epoch 3/100\n",
      "60000/60000 [==============================] - 7s 114us/sample - loss: 0.0563 - accuracy: 0.9833 - val_loss: 0.0666 - val_accuracy: 0.9797\n",
      "Epoch 4/100\n",
      "60000/60000 [==============================] - 7s 114us/sample - loss: 0.0563 - accuracy: 0.9835 - val_loss: 0.0647 - val_accuracy: 0.9801\n",
      "Epoch 5/100\n",
      "60000/60000 [==============================] - 6s 107us/sample - loss: 0.0558 - accuracy: 0.9833 - val_loss: 0.0663 - val_accuracy: 0.9794\n",
      "Epoch 6/100\n",
      "60000/60000 [==============================] - 6s 108us/sample - loss: 0.0558 - accuracy: 0.9834 - val_loss: 0.0654 - val_accuracy: 0.9796\n",
      "Epoch 7/100\n",
      "60000/60000 [==============================] - 6s 107us/sample - loss: 0.0556 - accuracy: 0.9836 - val_loss: 0.0650 - val_accuracy: 0.9798\n",
      "Epoch 8/100\n",
      "60000/60000 [==============================] - 6s 107us/sample - loss: 0.0553 - accuracy: 0.9836 - val_loss: 0.0661 - val_accuracy: 0.9789\n",
      "Epoch 9/100\n",
      "60000/60000 [==============================] - 6s 106us/sample - loss: 0.0552 - accuracy: 0.9835 - val_loss: 0.0639 - val_accuracy: 0.9802\n",
      "Epoch 10/100\n",
      "60000/60000 [==============================] - 6s 107us/sample - loss: 0.0551 - accuracy: 0.9836 - val_loss: 0.0654 - val_accuracy: 0.9794\n",
      "Epoch 11/100\n",
      "60000/60000 [==============================] - 6s 106us/sample - loss: 0.0549 - accuracy: 0.9838 - val_loss: 0.0647 - val_accuracy: 0.9797\n",
      "Epoch 12/100\n",
      "60000/60000 [==============================] - 6s 106us/sample - loss: 0.0548 - accuracy: 0.9837 - val_loss: 0.0640 - val_accuracy: 0.9804\n",
      "Epoch 13/100\n",
      "60000/60000 [==============================] - 6s 107us/sample - loss: 0.0546 - accuracy: 0.9836 - val_loss: 0.0645 - val_accuracy: 0.9800\n",
      "Epoch 14/100\n",
      "60000/60000 [==============================] - 6s 107us/sample - loss: 0.0544 - accuracy: 0.9842 - val_loss: 0.0644 - val_accuracy: 0.9798\n",
      "Epoch 15/100\n",
      "60000/60000 [==============================] - 6s 107us/sample - loss: 0.0542 - accuracy: 0.9839 - val_loss: 0.0641 - val_accuracy: 0.9798\n",
      "Epoch 16/100\n",
      "60000/60000 [==============================] - 6s 106us/sample - loss: 0.0540 - accuracy: 0.9839 - val_loss: 0.0656 - val_accuracy: 0.9795\n",
      "Epoch 17/100\n",
      "60000/60000 [==============================] - 6s 105us/sample - loss: 0.0541 - accuracy: 0.9836 - val_loss: 0.0646 - val_accuracy: 0.9804\n",
      "Epoch 18/100\n",
      "60000/60000 [==============================] - 6s 107us/sample - loss: 0.0539 - accuracy: 0.9839 - val_loss: 0.0624 - val_accuracy: 0.9810\n",
      "Epoch 19/100\n",
      "60000/60000 [==============================] - 6s 105us/sample - loss: 0.0537 - accuracy: 0.9840 - val_loss: 0.0628 - val_accuracy: 0.9805\n",
      "Epoch 20/100\n",
      "60000/60000 [==============================] - 6s 105us/sample - loss: 0.0535 - accuracy: 0.9837 - val_loss: 0.0631 - val_accuracy: 0.9794\n",
      "Epoch 21/100\n",
      "60000/60000 [==============================] - 6s 106us/sample - loss: 0.0533 - accuracy: 0.9844 - val_loss: 0.0635 - val_accuracy: 0.9799\n",
      "Epoch 22/100\n",
      "60000/60000 [==============================] - 6s 107us/sample - loss: 0.0531 - accuracy: 0.9843 - val_loss: 0.0635 - val_accuracy: 0.9801\n",
      "Epoch 23/100\n",
      "60000/60000 [==============================] - 6s 106us/sample - loss: 0.0530 - accuracy: 0.9843 - val_loss: 0.0631 - val_accuracy: 0.9806\n",
      "Epoch 24/100\n",
      "60000/60000 [==============================] - 6s 106us/sample - loss: 0.0530 - accuracy: 0.9843 - val_loss: 0.0642 - val_accuracy: 0.9799\n",
      "Epoch 25/100\n",
      "60000/60000 [==============================] - 6s 105us/sample - loss: 0.0526 - accuracy: 0.9845 - val_loss: 0.0640 - val_accuracy: 0.9797\n",
      "Epoch 26/100\n",
      "60000/60000 [==============================] - 6s 105us/sample - loss: 0.0527 - accuracy: 0.9844 - val_loss: 0.0631 - val_accuracy: 0.9803\n",
      "Epoch 27/100\n",
      "60000/60000 [==============================] - 6s 107us/sample - loss: 0.0523 - accuracy: 0.9842 - val_loss: 0.0639 - val_accuracy: 0.9801\n",
      "Epoch 28/100\n",
      "60000/60000 [==============================] - 6s 106us/sample - loss: 0.0523 - accuracy: 0.9844 - val_loss: 0.0659 - val_accuracy: 0.9796\n",
      "Epoch 29/100\n",
      "60000/60000 [==============================] - 6s 106us/sample - loss: 0.0521 - accuracy: 0.9844 - val_loss: 0.0644 - val_accuracy: 0.9795\n",
      "Epoch 30/100\n",
      "60000/60000 [==============================] - 6s 105us/sample - loss: 0.0520 - accuracy: 0.9843 - val_loss: 0.0644 - val_accuracy: 0.9793\n",
      "Epoch 31/100\n",
      "60000/60000 [==============================] - 6s 106us/sample - loss: 0.0519 - accuracy: 0.9843 - val_loss: 0.0624 - val_accuracy: 0.9800\n",
      "Epoch 32/100\n",
      "60000/60000 [==============================] - 6s 107us/sample - loss: 0.0516 - accuracy: 0.9847 - val_loss: 0.0621 - val_accuracy: 0.9813\n",
      "Epoch 33/100\n",
      "60000/60000 [==============================] - 6s 106us/sample - loss: 0.0515 - accuracy: 0.9847 - val_loss: 0.0636 - val_accuracy: 0.9801\n",
      "Epoch 34/100\n",
      "60000/60000 [==============================] - 6s 106us/sample - loss: 0.0515 - accuracy: 0.9848 - val_loss: 0.0617 - val_accuracy: 0.9807\n",
      "Epoch 35/100\n",
      "60000/60000 [==============================] - 6s 106us/sample - loss: 0.0513 - accuracy: 0.9850 - val_loss: 0.0635 - val_accuracy: 0.9798\n",
      "Epoch 36/100\n",
      "60000/60000 [==============================] - 6s 105us/sample - loss: 0.0510 - accuracy: 0.9851 - val_loss: 0.0641 - val_accuracy: 0.9802\n",
      "Epoch 37/100\n",
      "60000/60000 [==============================] - 6s 106us/sample - loss: 0.0510 - accuracy: 0.9845 - val_loss: 0.0619 - val_accuracy: 0.9805\n",
      "Epoch 38/100\n",
      "60000/60000 [==============================] - 6s 105us/sample - loss: 0.0509 - accuracy: 0.9849 - val_loss: 0.0621 - val_accuracy: 0.9805\n",
      "Epoch 39/100\n",
      "60000/60000 [==============================] - 6s 105us/sample - loss: 0.0506 - accuracy: 0.9849 - val_loss: 0.0620 - val_accuracy: 0.9803\n",
      "Epoch 40/100\n",
      "60000/60000 [==============================] - 6s 105us/sample - loss: 0.0506 - accuracy: 0.9851 - val_loss: 0.0627 - val_accuracy: 0.9795\n",
      "Epoch 41/100\n",
      "60000/60000 [==============================] - 6s 105us/sample - loss: 0.0506 - accuracy: 0.9850 - val_loss: 0.0613 - val_accuracy: 0.9811\n",
      "Epoch 42/100\n",
      "60000/60000 [==============================] - 6s 105us/sample - loss: 0.0503 - accuracy: 0.9848 - val_loss: 0.0615 - val_accuracy: 0.9807\n",
      "Epoch 43/100\n",
      "60000/60000 [==============================] - 6s 105us/sample - loss: 0.0501 - accuracy: 0.9850 - val_loss: 0.0631 - val_accuracy: 0.9802\n",
      "Epoch 44/100\n",
      "60000/60000 [==============================] - 6s 105us/sample - loss: 0.0498 - accuracy: 0.9853 - val_loss: 0.0627 - val_accuracy: 0.9806\n",
      "Epoch 45/100\n",
      "60000/60000 [==============================] - 6s 107us/sample - loss: 0.0498 - accuracy: 0.9851 - val_loss: 0.0620 - val_accuracy: 0.9804\n",
      "Epoch 46/100\n",
      "60000/60000 [==============================] - 6s 105us/sample - loss: 0.0497 - accuracy: 0.9852 - val_loss: 0.0622 - val_accuracy: 0.9806\n",
      "Epoch 47/100\n",
      "60000/60000 [==============================] - 6s 105us/sample - loss: 0.0497 - accuracy: 0.9852 - val_loss: 0.0615 - val_accuracy: 0.9809\n",
      "Epoch 48/100\n",
      "60000/60000 [==============================] - 6s 106us/sample - loss: 0.0494 - accuracy: 0.9851 - val_loss: 0.0609 - val_accuracy: 0.9808\n",
      "Epoch 49/100\n",
      "60000/60000 [==============================] - 6s 106us/sample - loss: 0.0495 - accuracy: 0.9856 - val_loss: 0.0619 - val_accuracy: 0.9804\n",
      "Epoch 50/100\n",
      "60000/60000 [==============================] - 6s 105us/sample - loss: 0.0492 - accuracy: 0.9857 - val_loss: 0.0609 - val_accuracy: 0.9811\n",
      "Epoch 51/100\n",
      "60000/60000 [==============================] - 7s 110us/sample - loss: 0.0491 - accuracy: 0.9852 - val_loss: 0.0616 - val_accuracy: 0.9812\n",
      "Epoch 52/100\n",
      "60000/60000 [==============================] - 7s 115us/sample - loss: 0.0489 - accuracy: 0.9853 - val_loss: 0.0607 - val_accuracy: 0.9809\n",
      "Epoch 53/100\n",
      "60000/60000 [==============================] - 6s 106us/sample - loss: 0.0488 - accuracy: 0.9856 - val_loss: 0.0608 - val_accuracy: 0.9809\n",
      "Epoch 54/100\n",
      "60000/60000 [==============================] - 6s 105us/sample - loss: 0.0487 - accuracy: 0.9857 - val_loss: 0.0618 - val_accuracy: 0.9809\n",
      "Epoch 55/100\n",
      "60000/60000 [==============================] - 6s 106us/sample - loss: 0.0487 - accuracy: 0.9856 - val_loss: 0.0602 - val_accuracy: 0.9815\n",
      "Epoch 56/100\n",
      "60000/60000 [==============================] - 6s 105us/sample - loss: 0.0485 - accuracy: 0.9854 - val_loss: 0.0618 - val_accuracy: 0.9804\n",
      "Epoch 57/100\n",
      "60000/60000 [==============================] - 6s 105us/sample - loss: 0.0485 - accuracy: 0.9855 - val_loss: 0.0618 - val_accuracy: 0.9817\n",
      "Epoch 58/100\n",
      "60000/60000 [==============================] - 6s 105us/sample - loss: 0.0483 - accuracy: 0.9855 - val_loss: 0.0602 - val_accuracy: 0.9807\n",
      "Epoch 59/100\n",
      "60000/60000 [==============================] - 6s 106us/sample - loss: 0.0480 - accuracy: 0.9858 - val_loss: 0.0608 - val_accuracy: 0.9813\n",
      "Epoch 60/100\n",
      "60000/60000 [==============================] - 6s 106us/sample - loss: 0.0479 - accuracy: 0.9857 - val_loss: 0.0607 - val_accuracy: 0.9809\n",
      "Epoch 61/100\n",
      "60000/60000 [==============================] - 6s 106us/sample - loss: 0.0479 - accuracy: 0.9858 - val_loss: 0.0606 - val_accuracy: 0.9809\n",
      "Epoch 62/100\n",
      "60000/60000 [==============================] - 6s 106us/sample - loss: 0.0476 - accuracy: 0.9861 - val_loss: 0.0612 - val_accuracy: 0.9812\n",
      "Epoch 63/100\n",
      "60000/60000 [==============================] - 6s 105us/sample - loss: 0.0475 - accuracy: 0.9862 - val_loss: 0.0611 - val_accuracy: 0.9806\n",
      "Epoch 64/100\n",
      "60000/60000 [==============================] - 6s 105us/sample - loss: 0.0474 - accuracy: 0.9862 - val_loss: 0.0613 - val_accuracy: 0.9805\n",
      "Epoch 65/100\n",
      "60000/60000 [==============================] - 6s 107us/sample - loss: 0.0474 - accuracy: 0.9858 - val_loss: 0.0605 - val_accuracy: 0.9811\n",
      "Epoch 66/100\n",
      "60000/60000 [==============================] - 6s 105us/sample - loss: 0.0473 - accuracy: 0.9861 - val_loss: 0.0603 - val_accuracy: 0.9807\n",
      "Epoch 67/100\n",
      "60000/60000 [==============================] - 6s 105us/sample - loss: 0.0471 - accuracy: 0.9865 - val_loss: 0.0623 - val_accuracy: 0.9802\n",
      "Epoch 68/100\n",
      "60000/60000 [==============================] - 6s 105us/sample - loss: 0.0471 - accuracy: 0.9860 - val_loss: 0.0608 - val_accuracy: 0.9810\n",
      "Epoch 69/100\n",
      "60000/60000 [==============================] - 6s 104us/sample - loss: 0.0468 - accuracy: 0.9865 - val_loss: 0.0605 - val_accuracy: 0.9806\n",
      "Epoch 70/100\n",
      "60000/60000 [==============================] - 6s 105us/sample - loss: 0.0465 - accuracy: 0.9865 - val_loss: 0.0610 - val_accuracy: 0.9809\n",
      "Epoch 71/100\n",
      "60000/60000 [==============================] - 6s 104us/sample - loss: 0.0466 - accuracy: 0.9864 - val_loss: 0.0603 - val_accuracy: 0.9807\n",
      "Epoch 72/100\n",
      "60000/60000 [==============================] - 6s 105us/sample - loss: 0.0464 - accuracy: 0.9864 - val_loss: 0.0604 - val_accuracy: 0.9817\n",
      "Epoch 73/100\n",
      "60000/60000 [==============================] - 6s 105us/sample - loss: 0.0465 - accuracy: 0.9863 - val_loss: 0.0592 - val_accuracy: 0.9818\n",
      "Epoch 74/100\n",
      "60000/60000 [==============================] - 6s 105us/sample - loss: 0.0463 - accuracy: 0.9862 - val_loss: 0.0599 - val_accuracy: 0.9817\n",
      "Epoch 75/100\n",
      "60000/60000 [==============================] - 6s 105us/sample - loss: 0.0461 - accuracy: 0.9862 - val_loss: 0.0600 - val_accuracy: 0.9815\n",
      "Epoch 76/100\n",
      "60000/60000 [==============================] - 6s 105us/sample - loss: 0.0461 - accuracy: 0.9861 - val_loss: 0.0593 - val_accuracy: 0.9811\n",
      "Epoch 77/100\n",
      "60000/60000 [==============================] - 6s 105us/sample - loss: 0.0459 - accuracy: 0.9863 - val_loss: 0.0597 - val_accuracy: 0.9814\n",
      "Epoch 78/100\n",
      "60000/60000 [==============================] - 6s 105us/sample - loss: 0.0458 - accuracy: 0.9865 - val_loss: 0.0600 - val_accuracy: 0.9809\n",
      "Epoch 79/100\n",
      "60000/60000 [==============================] - 6s 107us/sample - loss: 0.0456 - accuracy: 0.9867 - val_loss: 0.0609 - val_accuracy: 0.9806\n",
      "Epoch 80/100\n",
      "60000/60000 [==============================] - 6s 105us/sample - loss: 0.0455 - accuracy: 0.9863 - val_loss: 0.0605 - val_accuracy: 0.9812\n",
      "Epoch 81/100\n",
      "60000/60000 [==============================] - 6s 106us/sample - loss: 0.0455 - accuracy: 0.9864 - val_loss: 0.0603 - val_accuracy: 0.9807\n",
      "Epoch 82/100\n",
      "60000/60000 [==============================] - 6s 106us/sample - loss: 0.0452 - accuracy: 0.9865 - val_loss: 0.0597 - val_accuracy: 0.9811\n",
      "Epoch 83/100\n",
      "60000/60000 [==============================] - 6s 106us/sample - loss: 0.0453 - accuracy: 0.9865 - val_loss: 0.0609 - val_accuracy: 0.9808\n",
      "Epoch 84/100\n",
      "60000/60000 [==============================] - 6s 106us/sample - loss: 0.0450 - accuracy: 0.9867 - val_loss: 0.0602 - val_accuracy: 0.9808\n",
      "Epoch 85/100\n",
      "60000/60000 [==============================] - 6s 105us/sample - loss: 0.0451 - accuracy: 0.9867 - val_loss: 0.0584 - val_accuracy: 0.9809\n",
      "Epoch 86/100\n",
      "60000/60000 [==============================] - 6s 106us/sample - loss: 0.0450 - accuracy: 0.9868 - val_loss: 0.0587 - val_accuracy: 0.9810\n",
      "Epoch 87/100\n",
      "60000/60000 [==============================] - 6s 105us/sample - loss: 0.0448 - accuracy: 0.9869 - val_loss: 0.0583 - val_accuracy: 0.9819\n",
      "Epoch 88/100\n",
      "60000/60000 [==============================] - 6s 105us/sample - loss: 0.0446 - accuracy: 0.9867 - val_loss: 0.0603 - val_accuracy: 0.9809\n",
      "Epoch 89/100\n",
      "60000/60000 [==============================] - 6s 105us/sample - loss: 0.0445 - accuracy: 0.9868 - val_loss: 0.0586 - val_accuracy: 0.9814\n",
      "Epoch 90/100\n",
      "60000/60000 [==============================] - 6s 105us/sample - loss: 0.0444 - accuracy: 0.9867 - val_loss: 0.0584 - val_accuracy: 0.9816\n",
      "Epoch 91/100\n",
      "60000/60000 [==============================] - 6s 106us/sample - loss: 0.0444 - accuracy: 0.9869 - val_loss: 0.0592 - val_accuracy: 0.9820\n",
      "Epoch 92/100\n",
      "60000/60000 [==============================] - 6s 107us/sample - loss: 0.0441 - accuracy: 0.9869 - val_loss: 0.0585 - val_accuracy: 0.9816\n",
      "Epoch 93/100\n",
      "60000/60000 [==============================] - 6s 106us/sample - loss: 0.0441 - accuracy: 0.9870 - val_loss: 0.0586 - val_accuracy: 0.9820\n",
      "Epoch 94/100\n",
      "60000/60000 [==============================] - 6s 106us/sample - loss: 0.0441 - accuracy: 0.9870 - val_loss: 0.0593 - val_accuracy: 0.9817\n",
      "Epoch 95/100\n",
      "60000/60000 [==============================] - 6s 106us/sample - loss: 0.0439 - accuracy: 0.9869 - val_loss: 0.0591 - val_accuracy: 0.9822\n",
      "Epoch 96/100\n",
      "60000/60000 [==============================] - 6s 106us/sample - loss: 0.0436 - accuracy: 0.9872 - val_loss: 0.0581 - val_accuracy: 0.9817\n",
      "Epoch 97/100\n",
      "60000/60000 [==============================] - 6s 106us/sample - loss: 0.0437 - accuracy: 0.9874 - val_loss: 0.0582 - val_accuracy: 0.9824\n",
      "Epoch 98/100\n",
      "60000/60000 [==============================] - 6s 106us/sample - loss: 0.0434 - accuracy: 0.9870 - val_loss: 0.0581 - val_accuracy: 0.9819\n",
      "Epoch 99/100\n",
      "60000/60000 [==============================] - 6s 106us/sample - loss: 0.0436 - accuracy: 0.9869 - val_loss: 0.0578 - val_accuracy: 0.9817\n",
      "Epoch 100/100\n",
      "60000/60000 [==============================] - 7s 115us/sample - loss: 0.0435 - accuracy: 0.9872 - val_loss: 0.0579 - val_accuracy: 0.9830\n"
     ]
    }
   ],
   "source": [
    "# Train defined model-\n",
    "history_pruned = model_pruning.fit(\n",
    "    x = X_train, y = y_train_ohe,\n",
    "    batch_size = batch_size,\n",
    "    epochs = 100, callbacks = callbacks,\n",
    "    validation_data = [X_test, y_test_ohe]\n",
    ")\n"
   ]
  },
  {
   "cell_type": "code",
   "execution_count": null,
   "metadata": {
    "colab": {},
    "colab_type": "code",
    "id": "bqAriBqyPV-7"
   },
   "outputs": [],
   "source": [
    "score = model_pruning.evaluate(X_test, y_test_ohe, verbose = 0)"
   ]
  },
  {
   "cell_type": "code",
   "execution_count": 53,
   "metadata": {
    "colab": {
     "base_uri": "https://localhost:8080/",
     "height": 85
    },
    "colab_type": "code",
    "id": "EnO540UpWhA5",
    "outputId": "d4a561b3-2e1b-4788-c6ce-f35d65cc1003"
   },
   "outputs": [
    {
     "name": "stdout",
     "output_type": "stream",
     "text": [
      "\n",
      "LeNet-5 CNN MNIST pruned model metrics on test dataset are:\n",
      "loss = 0.0579 & accuracy = 0.9830\n",
      "\n"
     ]
    }
   ],
   "source": [
    "print(\"\\nLeNet-5 CNN MNIST pruned model metrics on test dataset are:\")\n",
    "print(\"loss = {0:.4f} & accuracy = {1:.4f}\\n\".format(score[0], score[1]))"
   ]
  },
  {
   "cell_type": "code",
   "execution_count": 57,
   "metadata": {
    "colab": {
     "base_uri": "https://localhost:8080/",
     "height": 527
    },
    "colab_type": "code",
    "id": "NOp5N59PvGfL",
    "outputId": "37d3526d-bf9c-426b-ddb0-323d04bd2a52"
   },
   "outputs": [
    {
     "name": "stdout",
     "output_type": "stream",
     "text": [
      "\n",
      "Pruned LenNet-5 CNN on MNIST dataset is:\n",
      "\n",
      "Model: \"sequential\"\n",
      "_________________________________________________________________\n",
      "Layer (type)                 Output Shape              Param #   \n",
      "=================================================================\n",
      "prune_low_magnitude_conv2d ( (None, 24, 24, 6)         308       \n",
      "_________________________________________________________________\n",
      "prune_low_magnitude_average_ (None, 12, 12, 6)         1         \n",
      "_________________________________________________________________\n",
      "prune_low_magnitude_conv2d_1 (None, 8, 8, 16)          4818      \n",
      "_________________________________________________________________\n",
      "prune_low_magnitude_average_ (None, 4, 4, 16)          1         \n",
      "_________________________________________________________________\n",
      "prune_low_magnitude_flatten  (None, 256)               1         \n",
      "_________________________________________________________________\n",
      "prune_low_magnitude_dense (P (None, 120)               61562     \n",
      "_________________________________________________________________\n",
      "prune_low_magnitude_flatten_ (None, 120)               1         \n",
      "_________________________________________________________________\n",
      "prune_low_magnitude_dense_1  (None, 84)                20246     \n",
      "_________________________________________________________________\n",
      "prune_low_magnitude_dense_2  (None, 10)                1692      \n",
      "=================================================================\n",
      "Total params: 88,630\n",
      "Trainable params: 44,426\n",
      "Non-trainable params: 44,204\n",
      "_________________________________________________________________\n",
      "None\n"
     ]
    }
   ],
   "source": [
    "print(\"\\nPruned LenNet-5 CNN on MNIST dataset is:\\n\")\n",
    "print(model_pruning.summary())"
   ]
  },
  {
   "cell_type": "code",
   "execution_count": 58,
   "metadata": {
    "colab": {
     "base_uri": "https://localhost:8080/",
     "height": 527
    },
    "colab_type": "code",
    "id": "y4jiBVx6xs4b",
    "outputId": "f3d54b38-8658-4733-ad67-5b5aa54fadda"
   },
   "outputs": [
    {
     "name": "stdout",
     "output_type": "stream",
     "text": [
      "\n",
      "Original LenNet-5 CNN on MNIST dataset is:\n",
      "\n",
      "Model: \"sequential\"\n",
      "_________________________________________________________________\n",
      "Layer (type)                 Output Shape              Param #   \n",
      "=================================================================\n",
      "conv2d (Conv2D)              (None, 24, 24, 6)         156       \n",
      "_________________________________________________________________\n",
      "average_pooling2d (AveragePo (None, 12, 12, 6)         0         \n",
      "_________________________________________________________________\n",
      "conv2d_1 (Conv2D)            (None, 8, 8, 16)          2416      \n",
      "_________________________________________________________________\n",
      "average_pooling2d_1 (Average (None, 4, 4, 16)          0         \n",
      "_________________________________________________________________\n",
      "flatten (Flatten)            (None, 256)               0         \n",
      "_________________________________________________________________\n",
      "dense (Dense)                (None, 120)               30840     \n",
      "_________________________________________________________________\n",
      "flatten_1 (Flatten)          (None, 120)               0         \n",
      "_________________________________________________________________\n",
      "dense_1 (Dense)              (None, 84)                10164     \n",
      "_________________________________________________________________\n",
      "dense_2 (Dense)              (None, 10)                850       \n",
      "=================================================================\n",
      "Total params: 44,426\n",
      "Trainable params: 44,426\n",
      "Non-trainable params: 0\n",
      "_________________________________________________________________\n",
      "None\n"
     ]
    }
   ],
   "source": [
    "print(\"\\nOriginal LenNet-5 CNN on MNIST dataset is:\\n\")\n",
    "print(model.summary())"
   ]
  },
  {
   "cell_type": "code",
   "execution_count": 64,
   "metadata": {
    "colab": {
     "base_uri": "https://localhost:8080/",
     "height": 122
    },
    "colab_type": "code",
    "id": "_MGGgGxmzTYZ",
    "outputId": "c6c40f03-5a50-4358-e943-8585e2917198"
   },
   "outputs": [
    {
     "name": "stdout",
     "output_type": "stream",
     "text": [
      "Go to this URL in a browser: https://accounts.google.com/o/oauth2/auth?client_id=947318989803-6bn6qk8qdgf4n4g3pfee6491hc0brc4i.apps.googleusercontent.com&redirect_uri=urn%3aietf%3awg%3aoauth%3a2.0%3aoob&response_type=code&scope=email%20https%3a%2f%2fwww.googleapis.com%2fauth%2fdocs.test%20https%3a%2f%2fwww.googleapis.com%2fauth%2fdrive%20https%3a%2f%2fwww.googleapis.com%2fauth%2fdrive.photos.readonly%20https%3a%2f%2fwww.googleapis.com%2fauth%2fpeopleapi.readonly\n",
      "\n",
      "Enter your authorization code:\n",
      "··········\n",
      "Mounted at /content/gdrive\n"
     ]
    }
   ],
   "source": [
    "from google.colab import drive\n",
    "drive.mount('/content/gdrive')"
   ]
  },
  {
   "cell_type": "markdown",
   "metadata": {
    "colab_type": "text",
    "id": "F7Af09hjzpsq"
   },
   "source": [
    "https://medium.com/@ml_kid/how-to-save-our-model-to-google-drive-and-reuse-it-2c1028058cb2\n",
    "\n",
    "https://medium.com/@rajath95/how-to-save-and-upload-deep-learning-machine-learning-models-in-google-colab-using-google-drive-eb2901937ae\n"
   ]
  },
  {
   "cell_type": "code",
   "execution_count": null,
   "metadata": {
    "colab": {},
    "colab_type": "code",
    "id": "eSEMhZ0EzUI9"
   },
   "outputs": [],
   "source": []
  },
  {
   "cell_type": "code",
   "execution_count": null,
   "metadata": {
    "colab": {},
    "colab_type": "code",
    "id": "rt2L9cI5wRq3"
   },
   "outputs": [],
   "source": [
    "# Save the entire model to a HDF5 file.\n",
    "# The '.h5' extension indicates that the model shuold be saved to HDF5.\n",
    "model.save('LeNet-5_CNN_Original_model_MNIST.h5')"
   ]
  },
  {
   "cell_type": "code",
   "execution_count": null,
   "metadata": {
    "colab": {},
    "colab_type": "code",
    "id": "wYZl2sW1yaYR"
   },
   "outputs": [],
   "source": [
    "model.save_weights(\"LeNet-5_CNN_Original_model_MNIST_weights.h5\", overwrite=True)"
   ]
  },
  {
   "cell_type": "code",
   "execution_count": null,
   "metadata": {
    "colab": {},
    "colab_type": "code",
    "id": "uzLTJAbjwXwS"
   },
   "outputs": [],
   "source": [
    "model_pruning.save('LeNet-5_CNN_Pruned_model_MNIST.h5')"
   ]
  },
  {
   "cell_type": "code",
   "execution_count": null,
   "metadata": {
    "colab": {},
    "colab_type": "code",
    "id": "Ymi9wEMQwlUP"
   },
   "outputs": [],
   "source": [
    "# Recreate the model from saved file-\n",
    "\n",
    "# Recreate the exact same model, including its weights and the optimizer\n",
    "orig_model = tf.keras.models.load_model('LeNet-5_CNN_Original_model_MNIST.h5')\n",
    "\n",
    "# Show the model architecture\n",
    "orig_model.summary()"
   ]
  },
  {
   "cell_type": "code",
   "execution_count": null,
   "metadata": {
    "colab": {},
    "colab_type": "code",
    "id": "yNK6hdtnwzMd"
   },
   "outputs": [],
   "source": [
    "# Check accuracy and loss of restored/loaded model-\n",
    "loss, acc = orig_model.evaluate(X_test,  y_test_ohe, verbose=2)\n",
    "print('Restored model, accuracy: {:5.2f}%'.format(100*acc))"
   ]
  },
  {
   "cell_type": "markdown",
   "metadata": {
    "colab_type": "text",
    "id": "8VQ-SE7RxGDl"
   },
   "source": [
    "This technique saves everything:\n",
    "\n",
    "    The weight values\n",
    "    The model's configuration(architecture)\n",
    "    The optimizer configuration\n",
    "\n",
    "Keras saves models by inspecting the architecture. Currently, it is not able to save TensorFlow optimizers (from tf.train). When using those you will need to re-compile the model after loading, and you will lose the state of the optimizer.\n",
    "\n",
    "https://www.tensorflow.org/tutorials/keras/save_and_load#save_the_entire_model"
   ]
  },
  {
   "cell_type": "code",
   "execution_count": null,
   "metadata": {
    "colab": {
     "base_uri": "https://localhost:8080/",
     "height": 191
    },
    "colab_type": "code",
    "id": "Tj3JcOkOWjsu",
    "outputId": "329eba11-30f9-439b-b1a6-98899525c507"
   },
   "outputs": [
    {
     "name": "stdout",
     "output_type": "stream",
     "text": [
      "layer 1 has shape = (5, 5, 1, 6)\n",
      "layer 2 has shape = (6,)\n",
      "layer 3 has shape = (5, 5, 6, 16)\n",
      "layer 4 has shape = (16,)\n",
      "layer 5 has shape = (256, 120)\n",
      "layer 6 has shape = (120,)\n",
      "layer 7 has shape = (120, 84)\n",
      "layer 8 has shape = (84,)\n",
      "layer 9 has shape = (84, 10)\n",
      "layer 10 has shape = (10,)\n"
     ]
    }
   ],
   "source": [
    "for n, layer in enumerate(model.trainable_variables):\n",
    "  print(\"layer {0} has shape = {1}\".format(n + 1, layer.shape))"
   ]
  },
  {
   "cell_type": "code",
   "execution_count": null,
   "metadata": {
    "colab": {
     "base_uri": "https://localhost:8080/",
     "height": 191
    },
    "colab_type": "code",
    "id": "Fnw2psyaX8ad",
    "outputId": "27db9d31-8dc7-48ae-eb97-c04b62025b02"
   },
   "outputs": [
    {
     "name": "stdout",
     "output_type": "stream",
     "text": [
      "layer 1 has shape = (5, 5, 1, 6)\n",
      "layer 2 has shape = (6,)\n",
      "layer 3 has shape = (5, 5, 6, 16)\n",
      "layer 4 has shape = (16,)\n",
      "layer 5 has shape = (256, 120)\n",
      "layer 6 has shape = (120,)\n",
      "layer 7 has shape = (120, 84)\n",
      "layer 8 has shape = (84,)\n",
      "layer 9 has shape = (84, 10)\n",
      "layer 10 has shape = (10,)\n"
     ]
    }
   ],
   "source": [
    "for n, layer in enumerate(model_pruning.trainable_variables):\n",
    "  print(\"layer {0} has shape = {1}\".format(n + 1, layer.shape))"
   ]
  },
  {
   "cell_type": "code",
   "execution_count": null,
   "metadata": {
    "colab": {
     "base_uri": "https://localhost:8080/",
     "height": 34
    },
    "colab_type": "code",
    "id": "O-i5wYbGYHeU",
    "outputId": "fe26af95-e6ad-4d97-d9ce-e607c32315dd"
   },
   "outputs": [
    {
     "name": "stdout",
     "output_type": "stream",
     "text": [
      "[-0.02855234  0.05989161 -0.0607013  -0.00576936 -0.00045072  0.1610433 ]\n"
     ]
    }
   ],
   "source": [
    "print(model.trainable_variables[1].numpy())"
   ]
  },
  {
   "cell_type": "code",
   "execution_count": null,
   "metadata": {
    "colab": {
     "base_uri": "https://localhost:8080/",
     "height": 34
    },
    "colab_type": "code",
    "id": "DpgjVlK4YSkQ",
    "outputId": "e40bf06d-aebc-4073-821e-9f840eb0535e"
   },
   "outputs": [
    {
     "name": "stdout",
     "output_type": "stream",
     "text": [
      "[-0.02855234  0.05989161 -0.0607013  -0.00576936 -0.00045072  0.1610433 ]\n"
     ]
    }
   ],
   "source": [
    "print(model_pruning.trainable_variables[1].numpy())"
   ]
  },
  {
   "cell_type": "code",
   "execution_count": null,
   "metadata": {
    "colab": {
     "base_uri": "https://localhost:8080/",
     "height": 52
    },
    "colab_type": "code",
    "id": "L95VwY35YVLV",
    "outputId": "077c5342-308d-4c05-8042-0c6d6731aaf4"
   },
   "outputs": [
    {
     "name": "stdout",
     "output_type": "stream",
     "text": [
      "[-0.06838122  0.11613953 -0.0261348  -0.07213172  0.01736846  0.00848707\n",
      "  0.0143916   0.0469756  -0.04419191  0.00747634]\n"
     ]
    }
   ],
   "source": [
    "print(model.trainable_variables[9].numpy())"
   ]
  },
  {
   "cell_type": "code",
   "execution_count": null,
   "metadata": {
    "colab": {
     "base_uri": "https://localhost:8080/",
     "height": 52
    },
    "colab_type": "code",
    "id": "Mn_iyid5Yahx",
    "outputId": "d25edf6b-703a-4e8c-fc60-5bd693790f59"
   },
   "outputs": [
    {
     "name": "stdout",
     "output_type": "stream",
     "text": [
      "[-0.06838122  0.11613953 -0.0261348  -0.07213172  0.01736846  0.00848707\n",
      "  0.0143916   0.0469756  -0.04419191  0.00747634]\n"
     ]
    }
   ],
   "source": [
    "print(model_pruning.trainable_variables[9].numpy())"
   ]
  }
 ],
 "metadata": {
  "accelerator": "GPU",
  "colab": {
   "collapsed_sections": [],
   "name": "Model_Optimization_LeNet_5_MNIST_TensorFlow_Example.ipynb",
   "provenance": []
  },
  "kernelspec": {
   "display_name": "Python 3",
   "language": "python",
   "name": "python3"
  },
  "language_info": {
   "codemirror_mode": {
    "name": "ipython",
    "version": 3
   },
   "file_extension": ".py",
   "mimetype": "text/x-python",
   "name": "python",
   "nbconvert_exporter": "python",
   "pygments_lexer": "ipython3",
   "version": "3.8.0"
  }
 },
 "nbformat": 4,
 "nbformat_minor": 4
}
